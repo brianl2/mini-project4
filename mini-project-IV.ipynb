{
 "cells": [
  {
   "cell_type": "markdown",
   "metadata": {},
   "source": [
    "# Loan predictions\n",
    "\n",
    "## Problem Statement\n",
    "\n",
    "We want to automate the loan eligibility process based on customer details that are provided as online application forms are being filled. You can find the dataset [here](https://drive.google.com/file/d/1h_jl9xqqqHflI5PsuiQd_soNYxzFfjKw/view?usp=sharing). These details concern the customer's Gender, Marital Status, Education, Number of Dependents, Income, Loan Amount, Credit History and other things as well. \n",
    "\n",
    "|Variable| Description|\n",
    "|: ------------- |:-------------|\n",
    "|Loan_ID| Unique Loan ID|\n",
    "|Gender| Male/ Female|\n",
    "|Married| Applicant married (Y/N)|\n",
    "|Dependents| Number of dependents|\n",
    "|Education| Applicant Education (Graduate/ Under Graduate)|\n",
    "|Self_Employed| Self employed (Y/N)|\n",
    "|ApplicantIncome| Applicant income|\n",
    "|CoapplicantIncome| Coapplicant income|\n",
    "|LoanAmount| Loan amount in thousands|\n",
    "|Loan_Amount_Term| Term of loan in months|\n",
    "|Credit_History| credit history meets guidelines|\n",
    "|Property_Area| Urban/ Semi Urban/ Rural|\n",
    "|Loan_Status| Loan approved (Y/N)\n",
    "\n",
    "\n",
    "\n",
    "### Explore the problem in following stages:\n",
    "\n",
    "1. Hypothesis Generation – understanding the problem better by brainstorming possible factors that can impact the outcome\n",
    "2. Data Exploration – looking at categorical and continuous feature summaries and making inferences about the data.\n",
    "3. Data Cleaning – imputing missing values in the data and checking for outliers\n",
    "4. Feature Engineering – modifying existing variables and creating new ones for analysis\n",
    "5. Model Building – making predictive models on the data"
   ]
  },
  {
   "cell_type": "markdown",
   "metadata": {},
   "source": [
    "## 1. Hypothesis Generation\n",
    "\n",
    "Generating a hypothesis is a major step in the process of analyzing data. This involves understanding the problem and formulating a meaningful hypothesis about what could potentially have a good impact on the outcome. This is done BEFORE looking at the data, and we end up creating a laundry list of the different analyses which we can potentially perform if data is available.\n",
    "\n",
    "#### Possible hypotheses\n",
    "Which applicants are more likely to get a loan\n",
    "\n",
    "1. Applicants having a credit history \n",
    "2. Applicants with higher applicant and co-applicant incomes\n",
    "3. Applicants with higher education level\n",
    "4. Properties in urban areas with high growth perspectives\n",
    "5. Applicates that are married \n",
    "6. Applicants with more dependents are likely to get a loan. \n",
    "7. Applicants with lower income will likely get a loan \n",
    "\n",
    "Do more brainstorming and create some hypotheses of your own. Remember that the data might not be sufficient to test all of these, but forming these enables a better understanding of the problem."
   ]
  },
  {
   "cell_type": "markdown",
   "metadata": {},
   "source": [
    "## 2. Data Exploration\n",
    "Let's do some basic data exploration here and come up with some inferences about the data. Go ahead and try to figure out some irregularities and address them in the next section. "
   ]
  },
  {
   "cell_type": "code",
   "execution_count": 179,
   "metadata": {
    "collapsed": false,
    "jupyter": {
     "outputs_hidden": false
    }
   },
   "outputs": [
    {
     "data": {
      "text/html": [
       "<div>\n",
       "<style scoped>\n",
       "    .dataframe tbody tr th:only-of-type {\n",
       "        vertical-align: middle;\n",
       "    }\n",
       "\n",
       "    .dataframe tbody tr th {\n",
       "        vertical-align: top;\n",
       "    }\n",
       "\n",
       "    .dataframe thead th {\n",
       "        text-align: right;\n",
       "    }\n",
       "</style>\n",
       "<table border=\"1\" class=\"dataframe\">\n",
       "  <thead>\n",
       "    <tr style=\"text-align: right;\">\n",
       "      <th></th>\n",
       "      <th>Loan_ID</th>\n",
       "      <th>Gender</th>\n",
       "      <th>Married</th>\n",
       "      <th>Dependents</th>\n",
       "      <th>Education</th>\n",
       "      <th>Self_Employed</th>\n",
       "      <th>ApplicantIncome</th>\n",
       "      <th>CoapplicantIncome</th>\n",
       "      <th>LoanAmount</th>\n",
       "      <th>Loan_Amount_Term</th>\n",
       "      <th>Credit_History</th>\n",
       "      <th>Property_Area</th>\n",
       "      <th>Loan_Status</th>\n",
       "    </tr>\n",
       "  </thead>\n",
       "  <tbody>\n",
       "    <tr>\n",
       "      <th>0</th>\n",
       "      <td>LP001002</td>\n",
       "      <td>Male</td>\n",
       "      <td>No</td>\n",
       "      <td>0</td>\n",
       "      <td>Graduate</td>\n",
       "      <td>No</td>\n",
       "      <td>5849</td>\n",
       "      <td>0.0</td>\n",
       "      <td>NaN</td>\n",
       "      <td>360.0</td>\n",
       "      <td>1.0</td>\n",
       "      <td>Urban</td>\n",
       "      <td>Y</td>\n",
       "    </tr>\n",
       "    <tr>\n",
       "      <th>1</th>\n",
       "      <td>LP001003</td>\n",
       "      <td>Male</td>\n",
       "      <td>Yes</td>\n",
       "      <td>1</td>\n",
       "      <td>Graduate</td>\n",
       "      <td>No</td>\n",
       "      <td>4583</td>\n",
       "      <td>1508.0</td>\n",
       "      <td>128.0</td>\n",
       "      <td>360.0</td>\n",
       "      <td>1.0</td>\n",
       "      <td>Rural</td>\n",
       "      <td>N</td>\n",
       "    </tr>\n",
       "    <tr>\n",
       "      <th>2</th>\n",
       "      <td>LP001005</td>\n",
       "      <td>Male</td>\n",
       "      <td>Yes</td>\n",
       "      <td>0</td>\n",
       "      <td>Graduate</td>\n",
       "      <td>Yes</td>\n",
       "      <td>3000</td>\n",
       "      <td>0.0</td>\n",
       "      <td>66.0</td>\n",
       "      <td>360.0</td>\n",
       "      <td>1.0</td>\n",
       "      <td>Urban</td>\n",
       "      <td>Y</td>\n",
       "    </tr>\n",
       "    <tr>\n",
       "      <th>3</th>\n",
       "      <td>LP001006</td>\n",
       "      <td>Male</td>\n",
       "      <td>Yes</td>\n",
       "      <td>0</td>\n",
       "      <td>Not Graduate</td>\n",
       "      <td>No</td>\n",
       "      <td>2583</td>\n",
       "      <td>2358.0</td>\n",
       "      <td>120.0</td>\n",
       "      <td>360.0</td>\n",
       "      <td>1.0</td>\n",
       "      <td>Urban</td>\n",
       "      <td>Y</td>\n",
       "    </tr>\n",
       "    <tr>\n",
       "      <th>4</th>\n",
       "      <td>LP001008</td>\n",
       "      <td>Male</td>\n",
       "      <td>No</td>\n",
       "      <td>0</td>\n",
       "      <td>Graduate</td>\n",
       "      <td>No</td>\n",
       "      <td>6000</td>\n",
       "      <td>0.0</td>\n",
       "      <td>141.0</td>\n",
       "      <td>360.0</td>\n",
       "      <td>1.0</td>\n",
       "      <td>Urban</td>\n",
       "      <td>Y</td>\n",
       "    </tr>\n",
       "  </tbody>\n",
       "</table>\n",
       "</div>"
      ],
      "text/plain": [
       "    Loan_ID Gender Married Dependents     Education Self_Employed  \\\n",
       "0  LP001002   Male      No          0      Graduate            No   \n",
       "1  LP001003   Male     Yes          1      Graduate            No   \n",
       "2  LP001005   Male     Yes          0      Graduate           Yes   \n",
       "3  LP001006   Male     Yes          0  Not Graduate            No   \n",
       "4  LP001008   Male      No          0      Graduate            No   \n",
       "\n",
       "   ApplicantIncome  CoapplicantIncome  LoanAmount  Loan_Amount_Term  \\\n",
       "0             5849                0.0         NaN             360.0   \n",
       "1             4583             1508.0       128.0             360.0   \n",
       "2             3000                0.0        66.0             360.0   \n",
       "3             2583             2358.0       120.0             360.0   \n",
       "4             6000                0.0       141.0             360.0   \n",
       "\n",
       "   Credit_History Property_Area Loan_Status  \n",
       "0             1.0         Urban           Y  \n",
       "1             1.0         Rural           N  \n",
       "2             1.0         Urban           Y  \n",
       "3             1.0         Urban           Y  \n",
       "4             1.0         Urban           Y  "
      ]
     },
     "execution_count": 179,
     "metadata": {},
     "output_type": "execute_result"
    }
   ],
   "source": [
    "import pandas as pd\n",
    "import numpy as np\n",
    "from matplotlib import pyplot as plt\n",
    "import seaborn as sns\n",
    "from sklearn.model_selection import train_test_split\n",
    "from sklearn.preprocessing import StandardScaler\n",
    "df = pd.read_csv(\"data.csv\") \n",
    "df.head(5)"
   ]
  },
  {
   "cell_type": "markdown",
   "metadata": {},
   "source": [
    "One of the key challenges in any data set are missing values. Lets start by checking which columns contain missing values."
   ]
  },
  {
   "cell_type": "code",
   "execution_count": 5,
   "metadata": {
    "collapsed": false,
    "jupyter": {
     "outputs_hidden": false
    }
   },
   "outputs": [
    {
     "data": {
      "text/plain": [
       "Loan_ID              False\n",
       "Gender                True\n",
       "Married               True\n",
       "Dependents            True\n",
       "Education            False\n",
       "Self_Employed         True\n",
       "ApplicantIncome      False\n",
       "CoapplicantIncome    False\n",
       "LoanAmount            True\n",
       "Loan_Amount_Term      True\n",
       "Credit_History        True\n",
       "Property_Area        False\n",
       "Loan_Status          False\n",
       "dtype: bool"
      ]
     },
     "execution_count": 5,
     "metadata": {},
     "output_type": "execute_result"
    }
   ],
   "source": [
    "df.isnull().any()"
   ]
  },
  {
   "cell_type": "markdown",
   "metadata": {},
   "source": [
    "Look at some basic statistics for numerical variables."
   ]
  },
  {
   "cell_type": "code",
   "execution_count": 21,
   "metadata": {
    "collapsed": false,
    "jupyter": {
     "outputs_hidden": false
    }
   },
   "outputs": [
    {
     "data": {
      "text/plain": [
       "1.0    475\n",
       "0.0     89\n",
       "Name: Credit_History, dtype: int64"
      ]
     },
     "execution_count": 21,
     "metadata": {},
     "output_type": "execute_result"
    }
   ],
   "source": [
    "# how many applicants have credit_history?\n",
    "df['Credit_History'].value_counts()"
   ]
  },
  {
   "cell_type": "code",
   "execution_count": 32,
   "metadata": {},
   "outputs": [
    {
     "name": "stdout",
     "output_type": "stream",
     "text": [
      "5403.459283387622\n",
      "3812.5\n"
     ]
    },
    {
     "data": {
      "text/plain": [
       "<seaborn.axisgrid.FacetGrid at 0x1f864499430>"
      ]
     },
     "execution_count": 32,
     "metadata": {},
     "output_type": "execute_result"
    },
    {
     "data": {
      "image/png": "[encoded data removed]",
      "text/plain": [
       "<Figure size 360x360 with 1 Axes>"
      ]
     },
     "metadata": {
      "needs_background": "light"
     },
     "output_type": "display_data"
    }
   ],
   "source": [
    "# Is the applicantIncome distribution in line with expectation?\n",
    "print(df['ApplicantIncome'].mean())\n",
    "print(df['ApplicantIncome'].median())\n",
    "sns.displot(df['ApplicantIncome'])"
   ]
  },
  {
   "cell_type": "code",
   "execution_count": 31,
   "metadata": {},
   "outputs": [
    {
     "name": "stdout",
     "output_type": "stream",
     "text": [
      "1621.245798027101\n",
      "1188.5\n"
     ]
    },
    {
     "data": {
      "text/plain": [
       "<seaborn.axisgrid.FacetGrid at 0x1f8648b7640>"
      ]
     },
     "execution_count": 31,
     "metadata": {},
     "output_type": "execute_result"
    },
    {
     "data": {
      "image/png": "[encoded data removed]",
      "text/plain": [
       "<Figure size 360x360 with 1 Axes>"
      ]
     },
     "metadata": {
      "needs_background": "light"
     },
     "output_type": "display_data"
    }
   ],
   "source": [
    "# Seems like coapplicants have lower income than the applicants themselves. \n",
    "print(df['CoapplicantIncome'].mean())\n",
    "print(df['CoapplicantIncome'].median())\n",
    "sns.displot(df['CoapplicantIncome'])"
   ]
  },
  {
   "cell_type": "markdown",
   "metadata": {},
   "source": [
    "1. How many applicants have a `Credit_History`? (`Credit_History` has value 1 for those who have a credit history and 0 otherwise)\n",
    "2. Is the `ApplicantIncome` distribution in line with your expectation? Similarly, what about `CoapplicantIncome`?\n",
    "3. Tip: Can you see a possible skewness in the data by comparing the mean to the median, i.e. the 50% figure of a feature.\n",
    "\n"
   ]
  },
  {
   "cell_type": "markdown",
   "metadata": {},
   "source": [
    "Let's discuss nominal (categorical) variable. Look at the number of unique values in each of them."
   ]
  },
  {
   "cell_type": "code",
   "execution_count": 35,
   "metadata": {
    "collapsed": false,
    "jupyter": {
     "outputs_hidden": false
    }
   },
   "outputs": [
    {
     "data": {
      "text/plain": [
       "Loan_ID               object\n",
       "Gender                object\n",
       "Married               object\n",
       "Dependents            object\n",
       "Education             object\n",
       "Self_Employed         object\n",
       "ApplicantIncome        int64\n",
       "CoapplicantIncome    float64\n",
       "LoanAmount           float64\n",
       "Loan_Amount_Term     float64\n",
       "Credit_History       float64\n",
       "Property_Area         object\n",
       "Loan_Status           object\n",
       "dtype: object"
      ]
     },
     "execution_count": 35,
     "metadata": {},
     "output_type": "execute_result"
    }
   ],
   "source": [
    "df.dtypes"
   ]
  },
  {
   "cell_type": "code",
   "execution_count": 42,
   "metadata": {},
   "outputs": [
    {
     "name": "stdout",
     "output_type": "stream",
     "text": [
      "['Male' 'Female' nan]\n",
      "['No' 'Yes' nan]\n",
      "['0' '1' '2' '3+' nan]\n",
      "['Graduate' 'Not Graduate']\n",
      "['No' 'Yes' nan]\n",
      "['Urban' 'Rural' 'Semiurban']\n",
      "['Y' 'N']\n"
     ]
    }
   ],
   "source": [
    "print(df['Gender'].unique())\n",
    "print(df['Married'].unique())\n",
    "print(df['Dependents'].unique())\n",
    "print(df['Education'].unique())\n",
    "print(df['Self_Employed'].unique())\n",
    "print(df['Property_Area'].unique())\n",
    "print(df['Loan_Status'].unique())"
   ]
  },
  {
   "cell_type": "markdown",
   "metadata": {},
   "source": [
    "Explore further using the frequency of different categories in each nominal variable. Exclude the ID obvious reasons."
   ]
  },
  {
   "cell_type": "code",
   "execution_count": 45,
   "metadata": {},
   "outputs": [
    {
     "name": "stdout",
     "output_type": "stream",
     "text": [
      "Male      489\n",
      "Female    112\n",
      "Name: Gender, dtype: int64\n",
      "Yes    398\n",
      "No     213\n",
      "Name: Married, dtype: int64\n",
      "0     345\n",
      "1     102\n",
      "2     101\n",
      "3+     51\n",
      "Name: Dependents, dtype: int64\n",
      "Graduate        480\n",
      "Not Graduate    134\n",
      "Name: Education, dtype: int64\n",
      "No     500\n",
      "Yes     82\n",
      "Name: Self_Employed, dtype: int64\n",
      "Semiurban    233\n",
      "Urban        202\n",
      "Rural        179\n",
      "Name: Property_Area, dtype: int64\n",
      "Y    422\n",
      "N    192\n",
      "Name: Loan_Status, dtype: int64\n"
     ]
    }
   ],
   "source": [
    "print(df['Gender'].value_counts())\n",
    "print(df['Married'].value_counts())\n",
    "print(df['Dependents'].value_counts())\n",
    "print(df['Education'].value_counts())\n",
    "print(df['Self_Employed'].value_counts())\n",
    "print(df['Property_Area'].value_counts())\n",
    "print(df['Loan_Status'].value_counts())"
   ]
  },
  {
   "cell_type": "markdown",
   "metadata": {},
   "source": [
    "Conclusion: \n",
    "More Males than Females, More people are Married, Most people don't have dependents\n",
    "Most people have education, most people are not self employed, most people live in semiurban areas\n",
    "most people are approved. "
   ]
  },
  {
   "cell_type": "code",
   "execution_count": 54,
   "metadata": {
    "collapsed": false,
    "jupyter": {
     "outputs_hidden": false
    }
   },
   "outputs": [
    {
     "data": {
      "text/plain": [
       "150"
      ]
     },
     "execution_count": 54,
     "metadata": {},
     "output_type": "execute_result"
    }
   ],
   "source": [
    "df['ApplicantIncome'].min()"
   ]
  },
  {
   "cell_type": "code",
   "execution_count": 55,
   "metadata": {},
   "outputs": [
    {
     "data": {
      "text/plain": [
       "81000"
      ]
     },
     "execution_count": 55,
     "metadata": {},
     "output_type": "execute_result"
    }
   ],
   "source": [
    "df['ApplicantIncome'].max()"
   ]
  },
  {
   "cell_type": "markdown",
   "metadata": {},
   "source": [
    "### Distribution analysis\n",
    "\n",
    "Study distribution of various variables. Plot the histogram of ApplicantIncome, try different number of bins.\n",
    "\n"
   ]
  },
  {
   "cell_type": "code",
   "execution_count": 65,
   "metadata": {
    "collapsed": false,
    "jupyter": {
     "outputs_hidden": false
    }
   },
   "outputs": [
    {
     "data": {
      "image/png": "[encoded data removed]",
      "text/plain": [
       "<Figure size 432x288 with 1 Axes>"
      ]
     },
     "metadata": {
      "needs_background": "light"
     },
     "output_type": "display_data"
    }
   ],
   "source": [
    "# the histogram of the data\n",
    "n, bins, patches = plt.hist(df['ApplicantIncome'], 10, density=False, facecolor='blue', alpha=0.75)\n",
    "\n",
    "plt.xlabel('Income')\n",
    "plt.ylabel('Counts')\n",
    "plt.title('Histogram of Applicant Income')\n",
    "plt.grid(True)\n",
    "plt.show()"
   ]
  },
  {
   "cell_type": "markdown",
   "metadata": {},
   "source": [
    "\n",
    "Look at box plots to understand the distributions. "
   ]
  },
  {
   "cell_type": "code",
   "execution_count": 183,
   "metadata": {
    "collapsed": false,
    "jupyter": {
     "outputs_hidden": false
    }
   },
   "outputs": [
    {
     "data": {
      "image/png": "[encoded data removed]",
      "text/plain": [
       "<Figure size 432x288 with 1 Axes>"
      ]
     },
     "metadata": {
      "needs_background": "light"
     },
     "output_type": "display_data"
    }
   ],
   "source": [
    "ax = sns.boxplot(x=df['Dependents'], y=df['LoanAmount'], data=df)"
   ]
  },
  {
   "cell_type": "code",
   "execution_count": 73,
   "metadata": {},
   "outputs": [
    {
     "data": {
      "image/png": "[encoded data removed]",
      "text/plain": [
       "<Figure size 432x288 with 1 Axes>"
      ]
     },
     "metadata": {
      "needs_background": "light"
     },
     "output_type": "display_data"
    }
   ],
   "source": [
    "ax = sns.boxplot(x=df['Loan_Status'], y=df['ApplicantIncome'], data=df)"
   ]
  },
  {
   "cell_type": "code",
   "execution_count": 181,
   "metadata": {},
   "outputs": [
    {
     "data": {
      "image/png": "[encoded data removed]",
      "text/plain": [
       "<Figure size 432x288 with 1 Axes>"
      ]
     },
     "metadata": {
      "needs_background": "light"
     },
     "output_type": "display_data"
    }
   ],
   "source": [
    "ax = sns.boxplot(x=df['Married'], y=df['LoanAmount'], data=df)"
   ]
  },
  {
   "cell_type": "markdown",
   "metadata": {},
   "source": [
    "Look at the distribution of income segregated  by `Education`"
   ]
  },
  {
   "cell_type": "code",
   "execution_count": 180,
   "metadata": {
    "collapsed": false,
    "jupyter": {
     "outputs_hidden": false
    }
   },
   "outputs": [
    {
     "data": {
      "image/png": "[encoded data removed]",
      "text/plain": [
       "<Figure size 432x288 with 1 Axes>"
      ]
     },
     "metadata": {
      "needs_background": "light"
     },
     "output_type": "display_data"
    }
   ],
   "source": [
    "ax = sns.boxplot(x=df['Education'], y=df['LoanAmount'], data=df)\n",
    "# people that graduate have a greater variation in income. "
   ]
  },
  {
   "cell_type": "markdown",
   "metadata": {},
   "source": [
    "Look at the histogram and boxplot of LoanAmount"
   ]
  },
  {
   "cell_type": "code",
   "execution_count": 78,
   "metadata": {
    "collapsed": false,
    "jupyter": {
     "outputs_hidden": false
    }
   },
   "outputs": [
    {
     "data": {
      "text/plain": [
       "<AxesSubplot:xlabel='LoanAmount', ylabel='ApplicantIncome'>"
      ]
     },
     "execution_count": 78,
     "metadata": {},
     "output_type": "execute_result"
    },
    {
     "data": {
      "image/png": "[encoded data removed]",
      "text/plain": [
       "<Figure size 432x288 with 1 Axes>"
      ]
     },
     "metadata": {
      "needs_background": "light"
     },
     "output_type": "display_data"
    }
   ],
   "source": [
    "sns.scatterplot(data=df, x=\"LoanAmount\", y=\"ApplicantIncome\")\n",
    "# seems like the more income people have, the more likely they are to get a loan?"
   ]
  },
  {
   "cell_type": "code",
   "execution_count": 83,
   "metadata": {},
   "outputs": [
    {
     "data": {
      "image/png": "[encoded data removed]",
      "text/plain": [
       "<Figure size 432x288 with 1 Axes>"
      ]
     },
     "metadata": {
      "needs_background": "light"
     },
     "output_type": "display_data"
    }
   ],
   "source": [
    "ax = sns.boxplot(x=df['LoanAmount'])\n",
    "ax.title.set_text('Loan Amount, Box Plot')"
   ]
  },
  {
   "cell_type": "code",
   "execution_count": 84,
   "metadata": {},
   "outputs": [
    {
     "data": {
      "image/png": "[encoded data removed]",
      "text/plain": [
       "<Figure size 432x288 with 1 Axes>"
      ]
     },
     "metadata": {
      "needs_background": "light"
     },
     "output_type": "display_data"
    }
   ],
   "source": [
    "# the histogram of the data\n",
    "n, bins, patches = plt.hist(df['LoanAmount'], 10, density=False, facecolor='red', alpha=0.75)\n",
    "\n",
    "plt.xlabel('Loan Amount')\n",
    "plt.ylabel('Counts')\n",
    "plt.title('Histogram of Loan Amount')\n",
    "plt.grid(True)\n",
    "plt.show()"
   ]
  },
  {
   "cell_type": "markdown",
   "metadata": {},
   "source": [
    "There might be some extreme values. Both `ApplicantIncome` and `LoanAmount` require some amount of data munging. `LoanAmount` has missing and well as extreme values values, while `ApplicantIncome` has a few extreme values, which demand deeper understanding. "
   ]
  },
  {
   "cell_type": "markdown",
   "metadata": {},
   "source": [
    "### Categorical variable analysis\n",
    "\n",
    "Try to understand categorical variables in more details using `pandas.DataFrame.pivot_table` and some visualizations."
   ]
  },
  {
   "cell_type": "code",
   "execution_count": 88,
   "metadata": {
    "collapsed": false,
    "jupyter": {
     "outputs_hidden": false
    }
   },
   "outputs": [],
   "source": [
    "table = pd.pivot_table(df, values=['ApplicantIncome', 'LoanAmount'], index=['Property_Area', 'Education'],\n",
    "                    aggfunc={'ApplicantIncome': [np.mean, np.median, min, max],\n",
    "                             'LoanAmount': [np.mean, np.median, min, max]})"
   ]
  },
  {
   "cell_type": "code",
   "execution_count": 89,
   "metadata": {},
   "outputs": [
    {
     "data": {
      "text/html": [
       "<div>\n",
       "<style scoped>\n",
       "    .dataframe tbody tr th:only-of-type {\n",
       "        vertical-align: middle;\n",
       "    }\n",
       "\n",
       "    .dataframe tbody tr th {\n",
       "        vertical-align: top;\n",
       "    }\n",
       "\n",
       "    .dataframe thead tr th {\n",
       "        text-align: left;\n",
       "    }\n",
       "\n",
       "    .dataframe thead tr:last-of-type th {\n",
       "        text-align: right;\n",
       "    }\n",
       "</style>\n",
       "<table border=\"1\" class=\"dataframe\">\n",
       "  <thead>\n",
       "    <tr>\n",
       "      <th></th>\n",
       "      <th></th>\n",
       "      <th colspan=\"4\" halign=\"left\">ApplicantIncome</th>\n",
       "      <th colspan=\"4\" halign=\"left\">LoanAmount</th>\n",
       "    </tr>\n",
       "    <tr>\n",
       "      <th></th>\n",
       "      <th></th>\n",
       "      <th>max</th>\n",
       "      <th>mean</th>\n",
       "      <th>median</th>\n",
       "      <th>min</th>\n",
       "      <th>max</th>\n",
       "      <th>mean</th>\n",
       "      <th>median</th>\n",
       "      <th>min</th>\n",
       "    </tr>\n",
       "    <tr>\n",
       "      <th>Property_Area</th>\n",
       "      <th>Education</th>\n",
       "      <th></th>\n",
       "      <th></th>\n",
       "      <th></th>\n",
       "      <th></th>\n",
       "      <th></th>\n",
       "      <th></th>\n",
       "      <th></th>\n",
       "      <th></th>\n",
       "    </tr>\n",
       "  </thead>\n",
       "  <tbody>\n",
       "    <tr>\n",
       "      <th rowspan=\"2\" valign=\"top\">Rural</th>\n",
       "      <th>Graduate</th>\n",
       "      <td>81000.0</td>\n",
       "      <td>6162.687023</td>\n",
       "      <td>4191.0</td>\n",
       "      <td>150.0</td>\n",
       "      <td>570.0</td>\n",
       "      <td>163.023622</td>\n",
       "      <td>141.0</td>\n",
       "      <td>40.0</td>\n",
       "    </tr>\n",
       "    <tr>\n",
       "      <th>Not Graduate</th>\n",
       "      <td>7667.0</td>\n",
       "      <td>3893.104167</td>\n",
       "      <td>3599.5</td>\n",
       "      <td>1820.0</td>\n",
       "      <td>218.0</td>\n",
       "      <td>122.543478</td>\n",
       "      <td>120.0</td>\n",
       "      <td>48.0</td>\n",
       "    </tr>\n",
       "    <tr>\n",
       "      <th rowspan=\"2\" valign=\"top\">Semiurban</th>\n",
       "      <th>Graduate</th>\n",
       "      <td>39999.0</td>\n",
       "      <td>5699.994652</td>\n",
       "      <td>4124.0</td>\n",
       "      <td>1500.0</td>\n",
       "      <td>600.0</td>\n",
       "      <td>152.587912</td>\n",
       "      <td>131.0</td>\n",
       "      <td>25.0</td>\n",
       "    </tr>\n",
       "    <tr>\n",
       "      <th>Not Graduate</th>\n",
       "      <td>17263.0</td>\n",
       "      <td>3634.739130</td>\n",
       "      <td>3253.0</td>\n",
       "      <td>210.0</td>\n",
       "      <td>279.0</td>\n",
       "      <td>117.478261</td>\n",
       "      <td>110.5</td>\n",
       "      <td>25.0</td>\n",
       "    </tr>\n",
       "    <tr>\n",
       "      <th rowspan=\"2\" valign=\"top\">Urban</th>\n",
       "      <th>Graduate</th>\n",
       "      <td>63337.0</td>\n",
       "      <td>5792.327160</td>\n",
       "      <td>3750.0</td>\n",
       "      <td>416.0</td>\n",
       "      <td>700.0</td>\n",
       "      <td>148.480769</td>\n",
       "      <td>120.0</td>\n",
       "      <td>9.0</td>\n",
       "    </tr>\n",
       "    <tr>\n",
       "      <th>Not Graduate</th>\n",
       "      <td>18165.0</td>\n",
       "      <td>3802.225000</td>\n",
       "      <td>3046.5</td>\n",
       "      <td>1442.0</td>\n",
       "      <td>186.0</td>\n",
       "      <td>114.200000</td>\n",
       "      <td>120.0</td>\n",
       "      <td>35.0</td>\n",
       "    </tr>\n",
       "  </tbody>\n",
       "</table>\n",
       "</div>"
      ],
      "text/plain": [
       "                           ApplicantIncome                               \\\n",
       "                                       max         mean  median     min   \n",
       "Property_Area Education                                                   \n",
       "Rural         Graduate             81000.0  6162.687023  4191.0   150.0   \n",
       "              Not Graduate          7667.0  3893.104167  3599.5  1820.0   \n",
       "Semiurban     Graduate             39999.0  5699.994652  4124.0  1500.0   \n",
       "              Not Graduate         17263.0  3634.739130  3253.0   210.0   \n",
       "Urban         Graduate             63337.0  5792.327160  3750.0   416.0   \n",
       "              Not Graduate         18165.0  3802.225000  3046.5  1442.0   \n",
       "\n",
       "                           LoanAmount                           \n",
       "                                  max        mean median   min  \n",
       "Property_Area Education                                         \n",
       "Rural         Graduate          570.0  163.023622  141.0  40.0  \n",
       "              Not Graduate      218.0  122.543478  120.0  48.0  \n",
       "Semiurban     Graduate          600.0  152.587912  131.0  25.0  \n",
       "              Not Graduate      279.0  117.478261  110.5  25.0  \n",
       "Urban         Graduate          700.0  148.480769  120.0   9.0  \n",
       "              Not Graduate      186.0  114.200000  120.0  35.0  "
      ]
     },
     "execution_count": 89,
     "metadata": {},
     "output_type": "execute_result"
    }
   ],
   "source": [
    "table"
   ]
  },
  {
   "cell_type": "markdown",
   "metadata": {},
   "source": [
    "Notes: \n",
    "People that live in Rural areas that are graduates have the highest mean/ median income.\n",
    "- but area matters very little. \n",
    "\n",
    "People that go to school in general have higher incomes. - These people also tend to get higher loans. "
   ]
  },
  {
   "cell_type": "code",
   "execution_count": 90,
   "metadata": {},
   "outputs": [],
   "source": [
    "table = pd.pivot_table(df, values=['ApplicantIncome', 'LoanAmount'], index=['Gender', 'Married'],\n",
    "                    aggfunc={'ApplicantIncome': [np.mean, np.median, min, max],\n",
    "                             'LoanAmount': [np.mean, np.median, min, max]})"
   ]
  },
  {
   "cell_type": "code",
   "execution_count": 91,
   "metadata": {},
   "outputs": [
    {
     "data": {
      "text/html": [
       "<div>\n",
       "<style scoped>\n",
       "    .dataframe tbody tr th:only-of-type {\n",
       "        vertical-align: middle;\n",
       "    }\n",
       "\n",
       "    .dataframe tbody tr th {\n",
       "        vertical-align: top;\n",
       "    }\n",
       "\n",
       "    .dataframe thead tr th {\n",
       "        text-align: left;\n",
       "    }\n",
       "\n",
       "    .dataframe thead tr:last-of-type th {\n",
       "        text-align: right;\n",
       "    }\n",
       "</style>\n",
       "<table border=\"1\" class=\"dataframe\">\n",
       "  <thead>\n",
       "    <tr>\n",
       "      <th></th>\n",
       "      <th></th>\n",
       "      <th colspan=\"4\" halign=\"left\">ApplicantIncome</th>\n",
       "      <th colspan=\"4\" halign=\"left\">LoanAmount</th>\n",
       "    </tr>\n",
       "    <tr>\n",
       "      <th></th>\n",
       "      <th></th>\n",
       "      <th>max</th>\n",
       "      <th>mean</th>\n",
       "      <th>median</th>\n",
       "      <th>min</th>\n",
       "      <th>max</th>\n",
       "      <th>mean</th>\n",
       "      <th>median</th>\n",
       "      <th>min</th>\n",
       "    </tr>\n",
       "    <tr>\n",
       "      <th>Gender</th>\n",
       "      <th>Married</th>\n",
       "      <th></th>\n",
       "      <th></th>\n",
       "      <th></th>\n",
       "      <th></th>\n",
       "      <th></th>\n",
       "      <th></th>\n",
       "      <th></th>\n",
       "      <th></th>\n",
       "    </tr>\n",
       "  </thead>\n",
       "  <tbody>\n",
       "    <tr>\n",
       "      <th rowspan=\"2\" valign=\"top\">Female</th>\n",
       "      <th>No</th>\n",
       "      <td>18165.0</td>\n",
       "      <td>4503.787500</td>\n",
       "      <td>3525.5</td>\n",
       "      <td>416.0</td>\n",
       "      <td>350.0</td>\n",
       "      <td>116.115385</td>\n",
       "      <td>112.0</td>\n",
       "      <td>9.0</td>\n",
       "    </tr>\n",
       "    <tr>\n",
       "      <th>Yes</th>\n",
       "      <td>19484.0</td>\n",
       "      <td>4829.645161</td>\n",
       "      <td>3625.0</td>\n",
       "      <td>210.0</td>\n",
       "      <td>600.0</td>\n",
       "      <td>153.322581</td>\n",
       "      <td>124.0</td>\n",
       "      <td>36.0</td>\n",
       "    </tr>\n",
       "    <tr>\n",
       "      <th rowspan=\"2\" valign=\"top\">Male</th>\n",
       "      <th>No</th>\n",
       "      <td>37719.0</td>\n",
       "      <td>5236.146154</td>\n",
       "      <td>3861.5</td>\n",
       "      <td>1442.0</td>\n",
       "      <td>650.0</td>\n",
       "      <td>136.088000</td>\n",
       "      <td>120.0</td>\n",
       "      <td>25.0</td>\n",
       "    </tr>\n",
       "    <tr>\n",
       "      <th>Yes</th>\n",
       "      <td>81000.0</td>\n",
       "      <td>5529.540616</td>\n",
       "      <td>3875.0</td>\n",
       "      <td>150.0</td>\n",
       "      <td>600.0</td>\n",
       "      <td>154.011662</td>\n",
       "      <td>132.0</td>\n",
       "      <td>17.0</td>\n",
       "    </tr>\n",
       "  </tbody>\n",
       "</table>\n",
       "</div>"
      ],
      "text/plain": [
       "               ApplicantIncome                              LoanAmount  \\\n",
       "                           max         mean  median     min        max   \n",
       "Gender Married                                                           \n",
       "Female No              18165.0  4503.787500  3525.5   416.0      350.0   \n",
       "       Yes             19484.0  4829.645161  3625.0   210.0      600.0   \n",
       "Male   No              37719.0  5236.146154  3861.5  1442.0      650.0   \n",
       "       Yes             81000.0  5529.540616  3875.0   150.0      600.0   \n",
       "\n",
       "                                         \n",
       "                      mean median   min  \n",
       "Gender Married                           \n",
       "Female No       116.115385  112.0   9.0  \n",
       "       Yes      153.322581  124.0  36.0  \n",
       "Male   No       136.088000  120.0  25.0  \n",
       "       Yes      154.011662  132.0  17.0  "
      ]
     },
     "execution_count": 91,
     "metadata": {},
     "output_type": "execute_result"
    }
   ],
   "source": [
    "table"
   ]
  },
  {
   "cell_type": "markdown",
   "metadata": {},
   "source": [
    "overall doesn't seem like marriage is a big factor. (based on median)\n",
    "Males tend to get a bit more loans, but overall very similar. \n",
    "Inconclusive about loan amounts for dependents, 3+ tend to make more money. \n",
    "Self_Employed people spend more money"
   ]
  },
  {
   "cell_type": "code",
   "execution_count": 94,
   "metadata": {},
   "outputs": [],
   "source": [
    "table = pd.pivot_table(df, values=['ApplicantIncome', 'LoanAmount'], index=['Dependents'],\n",
    "                    aggfunc={'ApplicantIncome': [np.mean, np.median, min, max],\n",
    "                             'LoanAmount': [np.mean, np.median, min, max]})"
   ]
  },
  {
   "cell_type": "code",
   "execution_count": 95,
   "metadata": {},
   "outputs": [
    {
     "data": {
      "text/html": [
       "<div>\n",
       "<style scoped>\n",
       "    .dataframe tbody tr th:only-of-type {\n",
       "        vertical-align: middle;\n",
       "    }\n",
       "\n",
       "    .dataframe tbody tr th {\n",
       "        vertical-align: top;\n",
       "    }\n",
       "\n",
       "    .dataframe thead tr th {\n",
       "        text-align: left;\n",
       "    }\n",
       "\n",
       "    .dataframe thead tr:last-of-type th {\n",
       "        text-align: right;\n",
       "    }\n",
       "</style>\n",
       "<table border=\"1\" class=\"dataframe\">\n",
       "  <thead>\n",
       "    <tr>\n",
       "      <th></th>\n",
       "      <th colspan=\"4\" halign=\"left\">ApplicantIncome</th>\n",
       "      <th colspan=\"4\" halign=\"left\">LoanAmount</th>\n",
       "    </tr>\n",
       "    <tr>\n",
       "      <th></th>\n",
       "      <th>max</th>\n",
       "      <th>mean</th>\n",
       "      <th>median</th>\n",
       "      <th>min</th>\n",
       "      <th>max</th>\n",
       "      <th>mean</th>\n",
       "      <th>median</th>\n",
       "      <th>min</th>\n",
       "    </tr>\n",
       "    <tr>\n",
       "      <th>Dependents</th>\n",
       "      <th></th>\n",
       "      <th></th>\n",
       "      <th></th>\n",
       "      <th></th>\n",
       "      <th></th>\n",
       "      <th></th>\n",
       "      <th></th>\n",
       "      <th></th>\n",
       "    </tr>\n",
       "  </thead>\n",
       "  <tbody>\n",
       "    <tr>\n",
       "      <th>0</th>\n",
       "      <td>63337.0</td>\n",
       "      <td>4917.423188</td>\n",
       "      <td>3598.0</td>\n",
       "      <td>150.0</td>\n",
       "      <td>650.0</td>\n",
       "      <td>135.886228</td>\n",
       "      <td>120.0</td>\n",
       "      <td>9.0</td>\n",
       "    </tr>\n",
       "    <tr>\n",
       "      <th>1</th>\n",
       "      <td>37719.0</td>\n",
       "      <td>5962.274510</td>\n",
       "      <td>4051.5</td>\n",
       "      <td>1000.0</td>\n",
       "      <td>600.0</td>\n",
       "      <td>158.622449</td>\n",
       "      <td>139.0</td>\n",
       "      <td>26.0</td>\n",
       "    </tr>\n",
       "    <tr>\n",
       "      <th>2</th>\n",
       "      <td>17500.0</td>\n",
       "      <td>4926.782178</td>\n",
       "      <td>4006.0</td>\n",
       "      <td>210.0</td>\n",
       "      <td>480.0</td>\n",
       "      <td>150.224490</td>\n",
       "      <td>133.0</td>\n",
       "      <td>17.0</td>\n",
       "    </tr>\n",
       "    <tr>\n",
       "      <th>3+</th>\n",
       "      <td>81000.0</td>\n",
       "      <td>8581.215686</td>\n",
       "      <td>4691.0</td>\n",
       "      <td>416.0</td>\n",
       "      <td>700.0</td>\n",
       "      <td>190.897959</td>\n",
       "      <td>130.0</td>\n",
       "      <td>40.0</td>\n",
       "    </tr>\n",
       "  </tbody>\n",
       "</table>\n",
       "</div>"
      ],
      "text/plain": [
       "           ApplicantIncome                              LoanAmount  \\\n",
       "                       max         mean  median     min        max   \n",
       "Dependents                                                           \n",
       "0                  63337.0  4917.423188  3598.0   150.0      650.0   \n",
       "1                  37719.0  5962.274510  4051.5  1000.0      600.0   \n",
       "2                  17500.0  4926.782178  4006.0   210.0      480.0   \n",
       "3+                 81000.0  8581.215686  4691.0   416.0      700.0   \n",
       "\n",
       "                                     \n",
       "                  mean median   min  \n",
       "Dependents                           \n",
       "0           135.886228  120.0   9.0  \n",
       "1           158.622449  139.0  26.0  \n",
       "2           150.224490  133.0  17.0  \n",
       "3+          190.897959  130.0  40.0  "
      ]
     },
     "execution_count": 95,
     "metadata": {},
     "output_type": "execute_result"
    }
   ],
   "source": [
    "table"
   ]
  },
  {
   "cell_type": "code",
   "execution_count": 162,
   "metadata": {},
   "outputs": [],
   "source": [
    "#Checking with cleaned data. \n",
    "table = pd.pivot_table(cleaned_df, values=['Log_Income', 'Log_LoanAmount'], index=['Loan_Amount_Term','Loan_Status'],\n",
    "                    aggfunc={'Log_Income': [np.mean, np.median, min, max],\n",
    "                             'Log_LoanAmount': [np.mean, np.median, min, max]})"
   ]
  },
  {
   "cell_type": "code",
   "execution_count": 155,
   "metadata": {},
   "outputs": [
    {
     "data": {
      "text/html": [
       "<div>\n",
       "<style scoped>\n",
       "    .dataframe tbody tr th:only-of-type {\n",
       "        vertical-align: middle;\n",
       "    }\n",
       "\n",
       "    .dataframe tbody tr th {\n",
       "        vertical-align: top;\n",
       "    }\n",
       "\n",
       "    .dataframe thead tr th {\n",
       "        text-align: left;\n",
       "    }\n",
       "\n",
       "    .dataframe thead tr:last-of-type th {\n",
       "        text-align: right;\n",
       "    }\n",
       "</style>\n",
       "<table border=\"1\" class=\"dataframe\">\n",
       "  <thead>\n",
       "    <tr>\n",
       "      <th></th>\n",
       "      <th></th>\n",
       "      <th colspan=\"4\" halign=\"left\">Log_Income</th>\n",
       "      <th colspan=\"4\" halign=\"left\">Log_LoanAmount</th>\n",
       "    </tr>\n",
       "    <tr>\n",
       "      <th></th>\n",
       "      <th></th>\n",
       "      <th>max</th>\n",
       "      <th>mean</th>\n",
       "      <th>median</th>\n",
       "      <th>min</th>\n",
       "      <th>max</th>\n",
       "      <th>mean</th>\n",
       "      <th>median</th>\n",
       "      <th>min</th>\n",
       "    </tr>\n",
       "    <tr>\n",
       "      <th>Loan_Amount_Term</th>\n",
       "      <th>Loan_Status</th>\n",
       "      <th></th>\n",
       "      <th></th>\n",
       "      <th></th>\n",
       "      <th></th>\n",
       "      <th></th>\n",
       "      <th></th>\n",
       "      <th></th>\n",
       "      <th></th>\n",
       "    </tr>\n",
       "  </thead>\n",
       "  <tbody>\n",
       "    <tr>\n",
       "      <th>12.0</th>\n",
       "      <th>Y</th>\n",
       "      <td>8.920255</td>\n",
       "      <td>8.920255</td>\n",
       "      <td>8.920255</td>\n",
       "      <td>8.920255</td>\n",
       "      <td>4.709530</td>\n",
       "      <td>4.709530</td>\n",
       "      <td>4.709530</td>\n",
       "      <td>4.709530</td>\n",
       "    </tr>\n",
       "    <tr>\n",
       "      <th>36.0</th>\n",
       "      <th>N</th>\n",
       "      <td>8.155075</td>\n",
       "      <td>8.137088</td>\n",
       "      <td>8.137088</td>\n",
       "      <td>8.119101</td>\n",
       "      <td>5.043425</td>\n",
       "      <td>4.712726</td>\n",
       "      <td>4.712726</td>\n",
       "      <td>4.382027</td>\n",
       "    </tr>\n",
       "    <tr>\n",
       "      <th>60.0</th>\n",
       "      <th>Y</th>\n",
       "      <td>9.067163</td>\n",
       "      <td>8.967506</td>\n",
       "      <td>8.967506</td>\n",
       "      <td>8.867850</td>\n",
       "      <td>5.043425</td>\n",
       "      <td>4.935869</td>\n",
       "      <td>4.935869</td>\n",
       "      <td>4.828314</td>\n",
       "    </tr>\n",
       "    <tr>\n",
       "      <th rowspan=\"2\" valign=\"top\">84.0</th>\n",
       "      <th>N</th>\n",
       "      <td>8.893298</td>\n",
       "      <td>8.893298</td>\n",
       "      <td>8.893298</td>\n",
       "      <td>8.893298</td>\n",
       "      <td>5.147494</td>\n",
       "      <td>5.147494</td>\n",
       "      <td>5.147494</td>\n",
       "      <td>5.147494</td>\n",
       "    </tr>\n",
       "    <tr>\n",
       "      <th>Y</th>\n",
       "      <td>8.656259</td>\n",
       "      <td>8.400857</td>\n",
       "      <td>8.352083</td>\n",
       "      <td>8.194229</td>\n",
       "      <td>4.969813</td>\n",
       "      <td>4.768635</td>\n",
       "      <td>4.682131</td>\n",
       "      <td>4.653960</td>\n",
       "    </tr>\n",
       "    <tr>\n",
       "      <th>120.0</th>\n",
       "      <th>Y</th>\n",
       "      <td>8.194229</td>\n",
       "      <td>8.039973</td>\n",
       "      <td>8.148735</td>\n",
       "      <td>7.776954</td>\n",
       "      <td>3.218876</td>\n",
       "      <td>3.090322</td>\n",
       "      <td>3.218876</td>\n",
       "      <td>2.833213</td>\n",
       "    </tr>\n",
       "    <tr>\n",
       "      <th rowspan=\"2\" valign=\"top\">180.0</th>\n",
       "      <th>N</th>\n",
       "      <td>10.647399</td>\n",
       "      <td>8.779817</td>\n",
       "      <td>8.604105</td>\n",
       "      <td>7.968666</td>\n",
       "      <td>5.857933</td>\n",
       "      <td>4.755090</td>\n",
       "      <td>4.836282</td>\n",
       "      <td>3.806662</td>\n",
       "    </tr>\n",
       "    <tr>\n",
       "      <th>Y</th>\n",
       "      <td>11.056225</td>\n",
       "      <td>8.873597</td>\n",
       "      <td>8.796036</td>\n",
       "      <td>7.907284</td>\n",
       "      <td>6.396930</td>\n",
       "      <td>4.848027</td>\n",
       "      <td>4.852030</td>\n",
       "      <td>3.688879</td>\n",
       "    </tr>\n",
       "    <tr>\n",
       "      <th rowspan=\"2\" valign=\"top\">240.0</th>\n",
       "      <th>N</th>\n",
       "      <td>8.699515</td>\n",
       "      <td>8.699515</td>\n",
       "      <td>8.699515</td>\n",
       "      <td>8.699515</td>\n",
       "      <td>5.323010</td>\n",
       "      <td>5.323010</td>\n",
       "      <td>5.323010</td>\n",
       "      <td>5.323010</td>\n",
       "    </tr>\n",
       "    <tr>\n",
       "      <th>Y</th>\n",
       "      <td>9.215029</td>\n",
       "      <td>8.564551</td>\n",
       "      <td>8.291045</td>\n",
       "      <td>8.187577</td>\n",
       "      <td>4.852030</td>\n",
       "      <td>4.456408</td>\n",
       "      <td>4.605170</td>\n",
       "      <td>3.912023</td>\n",
       "    </tr>\n",
       "    <tr>\n",
       "      <th rowspan=\"2\" valign=\"top\">300.0</th>\n",
       "      <th>N</th>\n",
       "      <td>9.024011</td>\n",
       "      <td>8.375781</td>\n",
       "      <td>8.370316</td>\n",
       "      <td>7.686162</td>\n",
       "      <td>5.192957</td>\n",
       "      <td>4.635200</td>\n",
       "      <td>4.595120</td>\n",
       "      <td>4.174387</td>\n",
       "    </tr>\n",
       "    <tr>\n",
       "      <th>Y</th>\n",
       "      <td>10.854431</td>\n",
       "      <td>9.110780</td>\n",
       "      <td>8.874537</td>\n",
       "      <td>8.135640</td>\n",
       "      <td>6.551080</td>\n",
       "      <td>5.119634</td>\n",
       "      <td>4.992534</td>\n",
       "      <td>4.094345</td>\n",
       "    </tr>\n",
       "    <tr>\n",
       "      <th rowspan=\"2\" valign=\"top\">360.0</th>\n",
       "      <th>N</th>\n",
       "      <td>11.302204</td>\n",
       "      <td>8.685527</td>\n",
       "      <td>8.591558</td>\n",
       "      <td>7.273786</td>\n",
       "      <td>6.345636</td>\n",
       "      <td>4.914560</td>\n",
       "      <td>4.852030</td>\n",
       "      <td>2.197225</td>\n",
       "    </tr>\n",
       "    <tr>\n",
       "      <th>Y</th>\n",
       "      <td>10.689601</td>\n",
       "      <td>8.654381</td>\n",
       "      <td>8.597297</td>\n",
       "      <td>7.582229</td>\n",
       "      <td>6.396930</td>\n",
       "      <td>4.852786</td>\n",
       "      <td>4.852030</td>\n",
       "      <td>3.258097</td>\n",
       "    </tr>\n",
       "    <tr>\n",
       "      <th rowspan=\"2\" valign=\"top\">480.0</th>\n",
       "      <th>N</th>\n",
       "      <td>8.955448</td>\n",
       "      <td>8.329223</td>\n",
       "      <td>8.238537</td>\n",
       "      <td>7.712891</td>\n",
       "      <td>5.231109</td>\n",
       "      <td>4.682103</td>\n",
       "      <td>4.624973</td>\n",
       "      <td>4.143135</td>\n",
       "    </tr>\n",
       "    <tr>\n",
       "      <th>Y</th>\n",
       "      <td>9.911753</td>\n",
       "      <td>8.560854</td>\n",
       "      <td>8.416742</td>\n",
       "      <td>7.946264</td>\n",
       "      <td>6.476972</td>\n",
       "      <td>5.058304</td>\n",
       "      <td>4.769786</td>\n",
       "      <td>4.543295</td>\n",
       "    </tr>\n",
       "  </tbody>\n",
       "</table>\n",
       "</div>"
      ],
      "text/plain": [
       "                             Log_Income                                \\\n",
       "                                    max      mean    median       min   \n",
       "Loan_Amount_Term Loan_Status                                            \n",
       "12.0             Y             8.920255  8.920255  8.920255  8.920255   \n",
       "36.0             N             8.155075  8.137088  8.137088  8.119101   \n",
       "60.0             Y             9.067163  8.967506  8.967506  8.867850   \n",
       "84.0             N             8.893298  8.893298  8.893298  8.893298   \n",
       "                 Y             8.656259  8.400857  8.352083  8.194229   \n",
       "120.0            Y             8.194229  8.039973  8.148735  7.776954   \n",
       "180.0            N            10.647399  8.779817  8.604105  7.968666   \n",
       "                 Y            11.056225  8.873597  8.796036  7.907284   \n",
       "240.0            N             8.699515  8.699515  8.699515  8.699515   \n",
       "                 Y             9.215029  8.564551  8.291045  8.187577   \n",
       "300.0            N             9.024011  8.375781  8.370316  7.686162   \n",
       "                 Y            10.854431  9.110780  8.874537  8.135640   \n",
       "360.0            N            11.302204  8.685527  8.591558  7.273786   \n",
       "                 Y            10.689601  8.654381  8.597297  7.582229   \n",
       "480.0            N             8.955448  8.329223  8.238537  7.712891   \n",
       "                 Y             9.911753  8.560854  8.416742  7.946264   \n",
       "\n",
       "                             Log_LoanAmount                                \n",
       "                                        max      mean    median       min  \n",
       "Loan_Amount_Term Loan_Status                                               \n",
       "12.0             Y                 4.709530  4.709530  4.709530  4.709530  \n",
       "36.0             N                 5.043425  4.712726  4.712726  4.382027  \n",
       "60.0             Y                 5.043425  4.935869  4.935869  4.828314  \n",
       "84.0             N                 5.147494  5.147494  5.147494  5.147494  \n",
       "                 Y                 4.969813  4.768635  4.682131  4.653960  \n",
       "120.0            Y                 3.218876  3.090322  3.218876  2.833213  \n",
       "180.0            N                 5.857933  4.755090  4.836282  3.806662  \n",
       "                 Y                 6.396930  4.848027  4.852030  3.688879  \n",
       "240.0            N                 5.323010  5.323010  5.323010  5.323010  \n",
       "                 Y                 4.852030  4.456408  4.605170  3.912023  \n",
       "300.0            N                 5.192957  4.635200  4.595120  4.174387  \n",
       "                 Y                 6.551080  5.119634  4.992534  4.094345  \n",
       "360.0            N                 6.345636  4.914560  4.852030  2.197225  \n",
       "                 Y                 6.396930  4.852786  4.852030  3.258097  \n",
       "480.0            N                 5.231109  4.682103  4.624973  4.143135  \n",
       "                 Y                 6.476972  5.058304  4.769786  4.543295  "
      ]
     },
     "execution_count": 155,
     "metadata": {},
     "output_type": "execute_result"
    }
   ],
   "source": [
    "table"
   ]
  },
  {
   "cell_type": "code",
   "execution_count": 15,
   "metadata": {
    "collapsed": false,
    "jupyter": {
     "outputs_hidden": false
    }
   },
   "outputs": [
    {
     "data": {
      "text/plain": [
       "Loan_ID               object\n",
       "Gender                object\n",
       "Married               object\n",
       "Dependents            object\n",
       "Education             object\n",
       "Self_Employed         object\n",
       "ApplicantIncome        int64\n",
       "CoapplicantIncome    float64\n",
       "LoanAmount           float64\n",
       "Loan_Amount_Term     float64\n",
       "Credit_History       float64\n",
       "Property_Area         object\n",
       "Loan_Status           object\n",
       "dtype: object"
      ]
     },
     "execution_count": 15,
     "metadata": {},
     "output_type": "execute_result"
    }
   ],
   "source": [
    "df.dtypes"
   ]
  },
  {
   "cell_type": "markdown",
   "metadata": {},
   "source": [
    "## 3. Data Cleaning\n",
    "\n",
    "This step typically involves imputing missing values and treating outliers. "
   ]
  },
  {
   "cell_type": "markdown",
   "metadata": {},
   "source": [
    "### Imputing Missing Values\n",
    "\n",
    "Missing values may not always be NaNs. For instance, the `Loan_Amount_Term` might be 0, which does not make sense.\n",
    "\n"
   ]
  },
  {
   "cell_type": "markdown",
   "metadata": {},
   "source": [
    "Impute missing values for all columns. Use the values which you find most meaningful (mean, mode, median, zero.... maybe different mean values for different groups)"
   ]
  },
  {
   "cell_type": "code",
   "execution_count": 99,
   "metadata": {},
   "outputs": [
    {
     "data": {
      "text/plain": [
       "Loan_ID              False\n",
       "Gender                True\n",
       "Married               True\n",
       "Dependents            True\n",
       "Education            False\n",
       "Self_Employed         True\n",
       "ApplicantIncome      False\n",
       "CoapplicantIncome    False\n",
       "LoanAmount            True\n",
       "Loan_Amount_Term      True\n",
       "Credit_History        True\n",
       "Property_Area        False\n",
       "Loan_Status          False\n",
       "dtype: bool"
      ]
     },
     "execution_count": 99,
     "metadata": {},
     "output_type": "execute_result"
    }
   ],
   "source": [
    "df.isnull().any()"
   ]
  },
  {
   "cell_type": "markdown",
   "metadata": {},
   "source": [
    "Change 'Gender to Other'\n",
    "Married to \"No\"\n",
    "Dependents to 0\n",
    "Self_employed to No\n",
    "LoanAmount median\n",
    "Loan_amount_term mode\n",
    "credit_History to 0. "
   ]
  },
  {
   "cell_type": "code",
   "execution_count": 109,
   "metadata": {
    "collapsed": false,
    "jupyter": {
     "outputs_hidden": false
    }
   },
   "outputs": [],
   "source": [
    "#Changing History and Dependents to Zero\n",
    "df[['Credit_History', 'Dependents']]= df[['Credit_History','Dependents']].fillna(value=0)\n",
    "#Changing Self_employed and Married to No\n",
    "df[['Married','Self_Employed']]= df[['Married','Self_Employed']].fillna('No')\n",
    "#Changing Loan to Median\n",
    "df['LoanAmount']= df['LoanAmount'].fillna(df['LoanAmount'].median())\n",
    "#Changing Loan term amount to mode\n",
    "df['Loan_Amount_Term']= df['Loan_Amount_Term'].fillna(df['Loan_Amount_Term'].mode()[0])\n",
    "#Changing Gender to Other\n",
    "df['Gender'] = df['Gender'].fillna('Other')\n",
    "#Making a copy of the cleaned df. \n",
    "cleaned_df = df.copy()"
   ]
  },
  {
   "cell_type": "code",
   "execution_count": 110,
   "metadata": {},
   "outputs": [],
   "source": [
    "#Changing Self_employed and Married to No\n",
    "df[['Married','Self_Employed']]= df[['Married','Self_Employed']].fillna('No')"
   ]
  },
  {
   "cell_type": "code",
   "execution_count": 111,
   "metadata": {},
   "outputs": [],
   "source": [
    "#Changing Loan to Median\n",
    "df['LoanAmount']= df['LoanAmount'].fillna(df['LoanAmount'].median())"
   ]
  },
  {
   "cell_type": "code",
   "execution_count": 113,
   "metadata": {},
   "outputs": [],
   "source": [
    "df['Loan_Amount_Term']= df['Loan_Amount_Term'].fillna(df['Loan_Amount_Term'].mode()[0])"
   ]
  },
  {
   "cell_type": "code",
   "execution_count": 114,
   "metadata": {},
   "outputs": [],
   "source": [
    "#Changing Gender to Other\n",
    "df['Gender'] = df['Gender'].fillna('Other')"
   ]
  },
  {
   "cell_type": "code",
   "execution_count": 117,
   "metadata": {},
   "outputs": [],
   "source": [
    "#Making a copy of the cleaned df. \n",
    "cleaned_df = df.copy()"
   ]
  },
  {
   "cell_type": "markdown",
   "metadata": {},
   "source": [
    "### Extreme values\n",
    "Try a log transformation to get rid of the extreme values in `LoanAmount`. Plot the histogram before and after the transformation"
   ]
  },
  {
   "cell_type": "code",
   "execution_count": 118,
   "metadata": {},
   "outputs": [
    {
     "data": {
      "image/png": "[encoded data removed]",
      "text/plain": [
       "<Figure size 432x288 with 1 Axes>"
      ]
     },
     "metadata": {
      "needs_background": "light"
     },
     "output_type": "display_data"
    }
   ],
   "source": [
    "# the histogram of the data\n",
    "n, bins, patches = plt.hist(cleaned_df['LoanAmount'], 10, density=False, facecolor='red', alpha=0.75)\n",
    "\n",
    "plt.xlabel('Loan Amount')\n",
    "plt.ylabel('Counts')\n",
    "plt.title('Histogram of Loan Amount')\n",
    "plt.grid(True)\n",
    "plt.show()"
   ]
  },
  {
   "cell_type": "code",
   "execution_count": 119,
   "metadata": {
    "collapsed": false,
    "jupyter": {
     "outputs_hidden": false
    }
   },
   "outputs": [],
   "source": [
    "cleaned_df['Log_LoanAmount'] = np.log(cleaned_df['LoanAmount'])"
   ]
  },
  {
   "cell_type": "code",
   "execution_count": 120,
   "metadata": {},
   "outputs": [
    {
     "data": {
      "image/png": "[encoded data removed]",
      "text/plain": [
       "<Figure size 432x288 with 1 Axes>"
      ]
     },
     "metadata": {
      "needs_background": "light"
     },
     "output_type": "display_data"
    }
   ],
   "source": [
    "# the histogram of the data\n",
    "n, bins, patches = plt.hist(cleaned_df['Log_LoanAmount'], 10, density=False, facecolor='g', alpha=0.75)\n",
    "\n",
    "plt.xlabel('Log Loan Amount')\n",
    "plt.ylabel('Counts')\n",
    "plt.title('Histogram of Log Loan Amount')\n",
    "plt.grid(True)\n",
    "plt.show()"
   ]
  },
  {
   "cell_type": "markdown",
   "metadata": {},
   "source": [
    "Combine both incomes as total income and take a log transformation of the same."
   ]
  },
  {
   "cell_type": "code",
   "execution_count": 121,
   "metadata": {
    "collapsed": false,
    "jupyter": {
     "outputs_hidden": false
    }
   },
   "outputs": [],
   "source": [
    "cleaned_df['Log_Income'] = np.log(cleaned_df['ApplicantIncome'] + cleaned_df['CoapplicantIncome'])"
   ]
  },
  {
   "cell_type": "code",
   "execution_count": 122,
   "metadata": {},
   "outputs": [
    {
     "data": {
      "image/png": "[encoded data removed]",
      "text/plain": [
       "<Figure size 432x288 with 1 Axes>"
      ]
     },
     "metadata": {
      "needs_background": "light"
     },
     "output_type": "display_data"
    }
   ],
   "source": [
    "# the histogram of the data\n",
    "n, bins, patches = plt.hist(cleaned_df['Log_Income'], 10, density=False, facecolor='blue', alpha=0.75)\n",
    "\n",
    "plt.xlabel('Log Income')\n",
    "plt.ylabel('Counts')\n",
    "plt.title('Histogram of Log Income of Applicant & Coapplicant')\n",
    "plt.grid(True)\n",
    "plt.show()"
   ]
  },
  {
   "cell_type": "markdown",
   "metadata": {},
   "source": [
    "Feature engineering thoughts:\n",
    "Use Log_Income and Log_Loan_Amounts -> gets rid of the extreme values and outliers\n",
    "Use Education, Self_Employed, Dependents (Change to Binary), Credit history, Loan_Amount_Term"
   ]
  },
  {
   "cell_type": "code",
   "execution_count": 144,
   "metadata": {},
   "outputs": [],
   "source": [
    "cleaned_df['Dependents'] = cleaned_df['Dependents'].replace({0:\"0\",'2':'1', '3+':'1'})"
   ]
  },
  {
   "cell_type": "code",
   "execution_count": 145,
   "metadata": {},
   "outputs": [
    {
     "data": {
      "text/plain": [
       "array(['0', '1'], dtype=object)"
      ]
     },
     "execution_count": 145,
     "metadata": {},
     "output_type": "execute_result"
    }
   ],
   "source": [
    "cleaned_df['Dependents'].unique()"
   ]
  },
  {
   "cell_type": "code",
   "execution_count": 131,
   "metadata": {},
   "outputs": [
    {
     "ename": "NameError",
     "evalue": "name 'cleaned_df' is not defined",
     "output_type": "error",
     "traceback": [
      "\u001b[1;31m---------------------------------------------------------------------------\u001b[0m",
      "\u001b[1;31mNameError\u001b[0m                                 Traceback (most recent call last)",
      "\u001b[1;32m<ipython-input-131-94f7b42de47c>\u001b[0m in \u001b[0;36m<module>\u001b[1;34m\u001b[0m\n\u001b[1;32m----> 1\u001b[1;33m \u001b[0mcleaned_df\u001b[0m\u001b[1;33m.\u001b[0m\u001b[0mhead\u001b[0m\u001b[1;33m(\u001b[0m\u001b[1;33m)\u001b[0m\u001b[1;33m\u001b[0m\u001b[1;33m\u001b[0m\u001b[0m\n\u001b[0m",
      "\u001b[1;31mNameError\u001b[0m: name 'cleaned_df' is not defined"
     ]
    }
   ],
   "source": [
    "cleaned_df.head()"
   ]
  },
  {
   "cell_type": "code",
   "execution_count": 130,
   "metadata": {},
   "outputs": [
    {
     "ename": "NameError",
     "evalue": "name 'cleaned_df' is not defined",
     "output_type": "error",
     "traceback": [
      "\u001b[1;31m---------------------------------------------------------------------------\u001b[0m",
      "\u001b[1;31mNameError\u001b[0m                                 Traceback (most recent call last)",
      "\u001b[1;32m<ipython-input-130-3ea9b44b3b22>\u001b[0m in \u001b[0;36m<module>\u001b[1;34m\u001b[0m\n\u001b[1;32m----> 1\u001b[1;33m \u001b[0mX_df\u001b[0m \u001b[1;33m=\u001b[0m \u001b[0mcleaned_df\u001b[0m\u001b[1;33m[\u001b[0m\u001b[1;33m[\u001b[0m\u001b[1;34m'Gender'\u001b[0m\u001b[1;33m,\u001b[0m\u001b[1;34m'Married'\u001b[0m\u001b[1;33m,\u001b[0m\u001b[1;34m'Dependents'\u001b[0m\u001b[1;33m,\u001b[0m\u001b[1;34m'Education'\u001b[0m\u001b[1;33m,\u001b[0m\u001b[1;34m'Self_Employed'\u001b[0m\u001b[1;33m,\u001b[0m\u001b[1;34m'Log_LoanAmount'\u001b[0m\u001b[1;33m,\u001b[0m\u001b[1;34m'Log_Income'\u001b[0m\u001b[1;33m,\u001b[0m\u001b[1;34m'Credit_History'\u001b[0m\u001b[1;33m,\u001b[0m\u001b[1;34m'Loan_Amount_Term'\u001b[0m\u001b[1;33m,\u001b[0m\u001b[1;34m'Property_Area'\u001b[0m\u001b[1;33m]\u001b[0m\u001b[1;33m]\u001b[0m\u001b[1;33m\u001b[0m\u001b[1;33m\u001b[0m\u001b[0m\n\u001b[0m\u001b[0;32m      2\u001b[0m \u001b[0my_df\u001b[0m \u001b[1;33m=\u001b[0m \u001b[0mcleaned_df\u001b[0m\u001b[1;33m[\u001b[0m\u001b[1;33m[\u001b[0m\u001b[1;34m'Loan_Status'\u001b[0m\u001b[1;33m]\u001b[0m\u001b[1;33m]\u001b[0m\u001b[1;33m\u001b[0m\u001b[1;33m\u001b[0m\u001b[0m\n",
      "\u001b[1;31mNameError\u001b[0m: name 'cleaned_df' is not defined"
     ]
    }
   ],
   "source": [
    "X_df = cleaned_df[['Gender','Married','Dependents','Education','Self_Employed','Log_LoanAmount','Log_Income','Credit_History','Loan_Amount_Term','Property_Area']]\n",
    "y_df = cleaned_df[['Loan_Status']]"
   ]
  },
  {
   "cell_type": "code",
   "execution_count": 173,
   "metadata": {},
   "outputs": [],
   "source": [
    "#X_df['Gender'] = X_df['Gender'].replace({'Male':0, 'Female':1, 'Other':2})\n",
    "#X_df['Married'] = X_df['Married'].replace({'No':0, 'Yes':1})\n",
    "#X_df['Education'] = X_df['Education'].replace({'Graduate':0, 'Not Graduate':1})\n",
    "#X_df['Self_Employed'] = X_df['Self_Employed'].replace({'No':0, 'Yes':1})\n",
    "#X_df['Property_Area'] = X_df['Property_Area'].replace({'Urban':0, 'Semiurban':1, 'Rural':2})\n",
    "#'Gender','Married','Education','Self_Employed','Property_Area']"
   ]
  },
  {
   "cell_type": "code",
   "execution_count": 195,
   "metadata": {},
   "outputs": [
    {
     "name": "stderr",
     "output_type": "stream",
     "text": [
      "C:\\Users\\brian\\anaconda3\\lib\\site-packages\\seaborn\\_decorators.py:36: FutureWarning: Pass the following variable as a keyword arg: x. From version 0.12, the only valid positional argument will be `data`, and passing other arguments without an explicit keyword will result in an error or misinterpretation.\n",
      "  warnings.warn(\n"
     ]
    },
    {
     "data": {
      "image/png": "[encoded data removed]",
      "text/plain": [
       "<Figure size 432x288 with 1 Axes>"
      ]
     },
     "metadata": {
      "needs_background": "light"
     },
     "output_type": "display_data"
    }
   ],
   "source": [
    "ax = sns.countplot(cleaned_df['Loan_Status'])"
   ]
  },
  {
   "cell_type": "code",
   "execution_count": 129,
   "metadata": {},
   "outputs": [
    {
     "ename": "NameError",
     "evalue": "name 'X_df' is not defined",
     "output_type": "error",
     "traceback": [
      "\u001b[1;31m---------------------------------------------------------------------------\u001b[0m",
      "\u001b[1;31mNameError\u001b[0m                                 Traceback (most recent call last)",
      "\u001b[1;32m<ipython-input-129-1523028fd2cc>\u001b[0m in \u001b[0;36m<module>\u001b[1;34m\u001b[0m\n\u001b[1;32m----> 1\u001b[1;33m \u001b[0mX_df\u001b[0m \u001b[1;33m=\u001b[0m \u001b[0mpd\u001b[0m\u001b[1;33m.\u001b[0m\u001b[0mget_dummies\u001b[0m\u001b[1;33m(\u001b[0m\u001b[0mX_df\u001b[0m\u001b[1;33m)\u001b[0m\u001b[1;33m\u001b[0m\u001b[1;33m\u001b[0m\u001b[0m\n\u001b[0m\u001b[0;32m      2\u001b[0m \u001b[0my_df\u001b[0m\u001b[1;33m[\u001b[0m\u001b[1;34m'Loan_Status'\u001b[0m\u001b[1;33m]\u001b[0m \u001b[1;33m=\u001b[0m \u001b[0my_df\u001b[0m\u001b[1;33m[\u001b[0m\u001b[1;34m'Loan_Status'\u001b[0m\u001b[1;33m]\u001b[0m\u001b[1;33m.\u001b[0m\u001b[0mreplace\u001b[0m\u001b[1;33m(\u001b[0m\u001b[1;33m{\u001b[0m\u001b[1;34m\"N\"\u001b[0m\u001b[1;33m:\u001b[0m\u001b[1;36m1\u001b[0m\u001b[1;33m,\u001b[0m\u001b[1;34m\"Y\"\u001b[0m\u001b[1;33m:\u001b[0m\u001b[1;36m0\u001b[0m\u001b[1;33m}\u001b[0m\u001b[1;33m)\u001b[0m\u001b[1;33m\u001b[0m\u001b[1;33m\u001b[0m\u001b[0m\n",
      "\u001b[1;31mNameError\u001b[0m: name 'X_df' is not defined"
     ]
    }
   ],
   "source": [
    "X_df = pd.get_dummies(X_df)\n",
    "y_df['Loan_Status'] = y_df['Loan_Status'].replace({\"Y\":1,\"N\":0})"
   ]
  },
  {
   "cell_type": "code",
   "execution_count": 239,
   "metadata": {},
   "outputs": [],
   "source": [
    "#Spliting Data for Testing and Training. \n",
    "from sklearn.model_selection import train_test_split\n",
    "X_train, X_test, y_train, y_test = train_test_split(X_df, y_df, test_size=0.20, random_state=42)"
   ]
  },
  {
   "cell_type": "code",
   "execution_count": 236,
   "metadata": {},
   "outputs": [],
   "source": [
    "#Scale the Data with a standard scalar\n",
    "from sklearn.preprocessing import StandardScaler\n",
    "scaler = StandardScaler()\n",
    "X_train_scaled = scaler.fit_transform(X_train)\n",
    "X_test_scaled = scaler.transform(X_test)"
   ]
  },
  {
   "cell_type": "code",
   "execution_count": 201,
   "metadata": {},
   "outputs": [
    {
     "data": {
      "text/plain": [
       "Index(['Loan_ID', 'Gender', 'Married', 'Dependents', 'Education',\n",
       "       'Self_Employed', 'ApplicantIncome', 'CoapplicantIncome', 'LoanAmount',\n",
       "       'Loan_Amount_Term', 'Credit_History', 'Property_Area', 'Loan_Status',\n",
       "       'Log_LoanAmount', 'Log_Income'],\n",
       "      dtype='object')"
      ]
     },
     "execution_count": 201,
     "metadata": {},
     "output_type": "execute_result"
    }
   ],
   "source": [
    "cleaned_df.columns"
   ]
  },
  {
   "cell_type": "code",
   "execution_count": 208,
   "metadata": {},
   "outputs": [],
   "source": [
    "feats = cleaned_df.columns.values.tolist()"
   ]
  },
  {
   "cell_type": "code",
   "execution_count": 209,
   "metadata": {},
   "outputs": [
    {
     "data": {
      "text/plain": [
       "['Loan_ID',\n",
       " 'Gender',\n",
       " 'Married',\n",
       " 'Dependents',\n",
       " 'Education',\n",
       " 'Self_Employed',\n",
       " 'ApplicantIncome',\n",
       " 'CoapplicantIncome',\n",
       " 'LoanAmount',\n",
       " 'Loan_Amount_Term',\n",
       " 'Credit_History',\n",
       " 'Property_Area',\n",
       " 'Loan_Status',\n",
       " 'Log_LoanAmount',\n",
       " 'Log_Income']"
      ]
     },
     "execution_count": 209,
     "metadata": {},
     "output_type": "execute_result"
    }
   ],
   "source": [
    "feats"
   ]
  },
  {
   "cell_type": "code",
   "execution_count": 217,
   "metadata": {},
   "outputs": [],
   "source": [
    "#separting Categorical and numerical\n",
    "cat_feats = feats[1:6]\n",
    "cat_feats.append(feats[10])\n",
    "cat_feats.append(feats[11])"
   ]
  },
  {
   "cell_type": "code",
   "execution_count": null,
   "metadata": {},
   "outputs": [],
   "source": [
    "Change 'Gender to Other'\n",
    "Married to \"No\"\n",
    "Dependents to 0\n",
    "Self_employed to No\n",
    "LoanAmount median\n",
    "Loan_amount_term mode\n",
    "credit_History to 0. "
   ]
  },
  {
   "cell_type": "code",
   "execution_count": 211,
   "metadata": {},
   "outputs": [],
   "source": [
    "num_feats = feats[6:10]"
   ]
  },
  {
   "cell_type": "code",
   "execution_count": 218,
   "metadata": {},
   "outputs": [
    {
     "data": {
      "text/plain": [
       "['Gender',\n",
       " 'Married',\n",
       " 'Dependents',\n",
       " 'Education',\n",
       " 'Self_Employed',\n",
       " 'Credit_History',\n",
       " 'Property_Area']"
      ]
     },
     "execution_count": 218,
     "metadata": {},
     "output_type": "execute_result"
    }
   ],
   "source": [
    "cat_feats"
   ]
  },
  {
   "cell_type": "code",
   "execution_count": 282,
   "metadata": {},
   "outputs": [],
   "source": [
    "num_original = num_feats[-1]"
   ]
  },
  {
   "cell_type": "code",
   "execution_count": 291,
   "metadata": {},
   "outputs": [],
   "source": [
    "num_logs = feats[13:]"
   ]
  },
  {
   "cell_type": "code",
   "execution_count": 292,
   "metadata": {},
   "outputs": [
    {
     "data": {
      "text/plain": [
       "['Log_LoanAmount', 'Log_Income']"
      ]
     },
     "execution_count": 292,
     "metadata": {},
     "output_type": "execute_result"
    }
   ],
   "source": [
    "num_logs"
   ]
  },
  {
   "cell_type": "markdown",
   "metadata": {},
   "source": [
    "## 4. Building a Predictive Model"
   ]
  },
  {
   "cell_type": "markdown",
   "metadata": {},
   "source": [
    "Models to use: \n",
    "Logistic\n",
    "Random Forest Classifier\n",
    "Gradient Boost?"
   ]
  },
  {
   "cell_type": "code",
   "execution_count": 241,
   "metadata": {},
   "outputs": [],
   "source": [
    "#converting y values to a format I can use in models\n",
    "y2 = y_train.values.ravel()\n",
    "y_train = np.array(y2).astype(int)"
   ]
  },
  {
   "cell_type": "code",
   "execution_count": 247,
   "metadata": {},
   "outputs": [],
   "source": [
    "#converting y values to a format I can use in models\n",
    "y3 = y_test.values.ravel()\n",
    "y_test = np.array(y3).astype(int)"
   ]
  },
  {
   "cell_type": "code",
   "execution_count": 244,
   "metadata": {},
   "outputs": [
    {
     "data": {
      "text/plain": [
       "(491,)"
      ]
     },
     "execution_count": 244,
     "metadata": {},
     "output_type": "execute_result"
    }
   ],
   "source": [
    "y_train.shape"
   ]
  },
  {
   "cell_type": "code",
   "execution_count": 293,
   "metadata": {},
   "outputs": [],
   "source": [
    "from sklearn.linear_model import LogisticRegression\n",
    "from sklearn.ensemble import RandomForestClassifier\n",
    "from sklearn.ensemble import GradientBoostingClassifier\n",
    "from sklearn.svm import LinearSVC\n",
    "from sklearn.metrics import accuracy_score\n",
    "from sklearn.metrics import precision_score\n",
    "from sklearn.metrics import recall_score\n",
    "from sklearn.metrics import confusion_matrix"
   ]
  },
  {
   "cell_type": "code",
   "execution_count": 258,
   "metadata": {
    "collapsed": false,
    "jupyter": {
     "outputs_hidden": false
    }
   },
   "outputs": [
    {
     "name": "stdout",
     "output_type": "stream",
     "text": [
      "0.7560975609756098\n",
      "0.7551020408163265\n",
      "0.925\n",
      "[[19 24]\n",
      " [ 6 74]]\n"
     ]
    }
   ],
   "source": [
    "#Logistic regression\n",
    "LR = LogisticRegression(random_state=0).fit(X_train_scaled, y_train)\n",
    "\n",
    "lr_pred = LR.predict(X_test_scaled)\n",
    "\n",
    "print(accuracy_score(y_test,lr_pred))\n",
    "print(precision_score(y_test, lr_pred))\n",
    "print(recall_score(y_test, lr_pred))\n",
    "print(confusion_matrix(y_test, lr_pred))"
   ]
  },
  {
   "cell_type": "code",
   "execution_count": 272,
   "metadata": {},
   "outputs": [
    {
     "name": "stdout",
     "output_type": "stream",
     "text": [
      "0.7317073170731707\n",
      "0.7526881720430108\n",
      "0.875\n",
      "[[20 23]\n",
      " [10 70]]\n"
     ]
    }
   ],
   "source": [
    "#random forest\n",
    "from sklearn.ensemble import RandomForestClassifier\n",
    "rf = RandomForestClassifier(max_depth=20, n_estimators=200, random_state=0).fit(X_train_scaled,y_train)\n",
    "rf_pred = rf.predict(X_test_scaled)\n",
    "\n",
    "print(accuracy_score(y_test,rf_pred))\n",
    "print(precision_score(y_test, rf_pred))\n",
    "print(recall_score(y_test, rf_pred))\n",
    "print(confusion_matrix(y_test, rf_pred))"
   ]
  },
  {
   "cell_type": "code",
   "execution_count": 281,
   "metadata": {},
   "outputs": [
    {
     "name": "stdout",
     "output_type": "stream",
     "text": [
      "0.7479674796747967\n",
      "0.7634408602150538\n",
      "0.8875\n",
      "[[21 22]\n",
      " [ 9 71]]\n"
     ]
    }
   ],
   "source": [
    "# Gradient Boosting\n",
    "Gb = GradientBoostingClassifier(n_estimators=100, learning_rate=1.0, max_depth=1, random_state=0).fit(X_train_scaled, y_train)\n",
    "\n",
    "gb_pred = Gb.predict(X_test_scaled)\n",
    "\n",
    "print(accuracy_score(y_test,gb_pred))\n",
    "print(precision_score(y_test, gb_pred))\n",
    "print(recall_score(y_test, gb_pred))\n",
    "print(confusion_matrix(y_test, gb_pred))"
   ]
  },
  {
   "cell_type": "code",
   "execution_count": 330,
   "metadata": {},
   "outputs": [
    {
     "name": "stdout",
     "output_type": "stream",
     "text": [
      "0.7723577235772358\n",
      "0.776595744680851\n",
      "0.9125\n",
      "[[22 21]\n",
      " [ 7 73]]\n"
     ]
    }
   ],
   "source": [
    "from sklearn.svm import LinearSVC\n",
    "Lsvc = LinearSVC(random_state=0, C=0.01, max_iter = 6000).fit(X_train_scaled,y_train)\n",
    "\n",
    "svc_pred = Lsvc.predict(X_test_scaled)\n",
    "\n",
    "print(accuracy_score(y_test,svc_pred))\n",
    "print(precision_score(y_test, svc_pred))\n",
    "print(recall_score(y_test, svc_pred))\n",
    "print(confusion_matrix(y_test, svc_pred))"
   ]
  },
  {
   "cell_type": "markdown",
   "metadata": {},
   "source": [
    "Try parameter grid search to improve the results"
   ]
  },
  {
   "cell_type": "code",
   "execution_count": 145,
   "metadata": {
    "collapsed": false,
    "jupyter": {
     "outputs_hidden": false
    }
   },
   "outputs": [],
   "source": [
    "from sklearn.model_selection import RandomizedSearchCV\n",
    "linear = LinearSVC(random_state=0, C=0.01, max_iter = 10000)\n",
    "distributions = dict(C=[0.01,0.05,0.1,0.5,1],\n",
    "                   max_iter =[9000,8000],\n",
    "                    )\n",
    "\n",
    "clf = RandomizedSearchCV(linear, distributions, random_state=0)\n",
    "clf = clf.fit(X_new,y_train)"
   ]
  },
  {
   "cell_type": "code",
   "execution_count": 146,
   "metadata": {},
   "outputs": [
    {
     "name": "stdout",
     "output_type": "stream",
     "text": [
      "Best test set accuracy: 0.7723577235772358\n",
      "Achieved with hyperparameters:{'max_iter': 9000, 'C': 0.1}\n"
     ]
    }
   ],
   "source": [
    "x_model = clf.best_estimator_\n",
    "x_hyperparams = clf.best_params_\n",
    "x_acc = clf.score(X_test_new,y_test)\n",
    "print(f'Best test set accuracy: {x_acc}\\nAchieved with hyperparameters:{x_hyperparams}')"
   ]
  },
  {
   "cell_type": "code",
   "execution_count": 135,
   "metadata": {},
   "outputs": [],
   "source": [
    "svc2_pred = x_model.predict(X_test_new)"
   ]
  },
  {
   "cell_type": "code",
   "execution_count": 136,
   "metadata": {},
   "outputs": [
    {
     "name": "stdout",
     "output_type": "stream",
     "text": [
      "0.6504065040650406\n",
      "0.6504065040650406\n",
      "1.0\n",
      "[[ 0 43]\n",
      " [ 0 80]]\n"
     ]
    }
   ],
   "source": [
    "print(accuracy_score(y_test,svc2_pred))\n",
    "print(precision_score(y_test, svc2_pred))\n",
    "print(recall_score(y_test, svc2_pred))\n",
    "print(confusion_matrix(y_test, svc2_pred))"
   ]
  },
  {
   "cell_type": "code",
   "execution_count": 148,
   "metadata": {},
   "outputs": [
    {
     "ename": "AttributeError",
     "evalue": "'numpy.ndarray' object has no attribute 'get_feature_names_out'",
     "output_type": "error",
     "traceback": [
      "\u001b[1;31m---------------------------------------------------------------------------\u001b[0m",
      "\u001b[1;31mAttributeError\u001b[0m                            Traceback (most recent call last)",
      "\u001b[1;32m<ipython-input-148-da30c9989038>\u001b[0m in \u001b[0;36m<module>\u001b[1;34m\u001b[0m\n\u001b[0;32m      1\u001b[0m \u001b[0mX_new\u001b[0m \u001b[1;33m=\u001b[0m \u001b[0mSelectKBest\u001b[0m\u001b[1;33m(\u001b[0m\u001b[0mk\u001b[0m\u001b[1;33m=\u001b[0m\u001b[1;36m3\u001b[0m\u001b[1;33m)\u001b[0m\u001b[1;33m.\u001b[0m\u001b[0mfit_transform\u001b[0m\u001b[1;33m(\u001b[0m\u001b[0mX_train\u001b[0m\u001b[1;33m,\u001b[0m \u001b[0my_train\u001b[0m\u001b[1;33m)\u001b[0m\u001b[1;33m\u001b[0m\u001b[1;33m\u001b[0m\u001b[0m\n\u001b[1;32m----> 2\u001b[1;33m \u001b[0mX_new\u001b[0m\u001b[1;33m.\u001b[0m\u001b[0mget_feature_names_out\u001b[0m\u001b[1;33m(\u001b[0m\u001b[1;33m)\u001b[0m\u001b[1;33m\u001b[0m\u001b[1;33m\u001b[0m\u001b[0m\n\u001b[0m\u001b[0;32m      3\u001b[0m \u001b[0mX_test_new\u001b[0m \u001b[1;33m=\u001b[0m \u001b[0mSelectKBest\u001b[0m\u001b[1;33m(\u001b[0m\u001b[0mk\u001b[0m\u001b[1;33m=\u001b[0m\u001b[1;36m3\u001b[0m\u001b[1;33m)\u001b[0m\u001b[1;33m.\u001b[0m\u001b[0mfit_transform\u001b[0m\u001b[1;33m(\u001b[0m\u001b[0mX_test\u001b[0m\u001b[1;33m,\u001b[0m \u001b[0my_test\u001b[0m\u001b[1;33m)\u001b[0m\u001b[1;33m\u001b[0m\u001b[1;33m\u001b[0m\u001b[0m\n",
      "\u001b[1;31mAttributeError\u001b[0m: 'numpy.ndarray' object has no attribute 'get_feature_names_out'"
     ]
    }
   ],
   "source": [
    "X_new = SelectKBest(k=3).fit_transform(X_train, y_train)\n",
    "\n",
    "X_test_new = SelectKBest(k=3).fit_transform(X_test, y_test)"
   ]
  },
  {
   "cell_type": "code",
   "execution_count": 177,
   "metadata": {},
   "outputs": [],
   "source": [
    "# Create and fit selector\n",
    "selector = SelectKBest(k=4)\n",
    "selector.fit(X_train, y_train)\n",
    "# Get columns to keep and create new dataframe with those only\n",
    "cols = selector.get_support(indices=True)\n",
    "features_df_new = X_train.iloc[:,cols]"
   ]
  },
  {
   "cell_type": "code",
   "execution_count": 178,
   "metadata": {},
   "outputs": [
    {
     "data": {
      "text/html": [
       "<div>\n",
       "<style scoped>\n",
       "    .dataframe tbody tr th:only-of-type {\n",
       "        vertical-align: middle;\n",
       "    }\n",
       "\n",
       "    .dataframe tbody tr th {\n",
       "        vertical-align: top;\n",
       "    }\n",
       "\n",
       "    .dataframe thead th {\n",
       "        text-align: right;\n",
       "    }\n",
       "</style>\n",
       "<table border=\"1\" class=\"dataframe\">\n",
       "  <thead>\n",
       "    <tr style=\"text-align: right;\">\n",
       "      <th></th>\n",
       "      <th>Credit_History</th>\n",
       "      <th>Married_No</th>\n",
       "      <th>Married_Yes</th>\n",
       "      <th>Property_Area_Semiurban</th>\n",
       "    </tr>\n",
       "  </thead>\n",
       "  <tbody>\n",
       "    <tr>\n",
       "      <th>83</th>\n",
       "      <td>0.0</td>\n",
       "      <td>0</td>\n",
       "      <td>1</td>\n",
       "      <td>1</td>\n",
       "    </tr>\n",
       "    <tr>\n",
       "      <th>90</th>\n",
       "      <td>1.0</td>\n",
       "      <td>0</td>\n",
       "      <td>1</td>\n",
       "      <td>1</td>\n",
       "    </tr>\n",
       "    <tr>\n",
       "      <th>227</th>\n",
       "      <td>1.0</td>\n",
       "      <td>0</td>\n",
       "      <td>1</td>\n",
       "      <td>1</td>\n",
       "    </tr>\n",
       "    <tr>\n",
       "      <th>482</th>\n",
       "      <td>1.0</td>\n",
       "      <td>0</td>\n",
       "      <td>1</td>\n",
       "      <td>1</td>\n",
       "    </tr>\n",
       "    <tr>\n",
       "      <th>464</th>\n",
       "      <td>0.0</td>\n",
       "      <td>1</td>\n",
       "      <td>0</td>\n",
       "      <td>1</td>\n",
       "    </tr>\n",
       "    <tr>\n",
       "      <th>...</th>\n",
       "      <td>...</td>\n",
       "      <td>...</td>\n",
       "      <td>...</td>\n",
       "      <td>...</td>\n",
       "    </tr>\n",
       "    <tr>\n",
       "      <th>71</th>\n",
       "      <td>1.0</td>\n",
       "      <td>0</td>\n",
       "      <td>1</td>\n",
       "      <td>1</td>\n",
       "    </tr>\n",
       "    <tr>\n",
       "      <th>106</th>\n",
       "      <td>1.0</td>\n",
       "      <td>0</td>\n",
       "      <td>1</td>\n",
       "      <td>0</td>\n",
       "    </tr>\n",
       "    <tr>\n",
       "      <th>270</th>\n",
       "      <td>1.0</td>\n",
       "      <td>1</td>\n",
       "      <td>0</td>\n",
       "      <td>0</td>\n",
       "    </tr>\n",
       "    <tr>\n",
       "      <th>435</th>\n",
       "      <td>1.0</td>\n",
       "      <td>1</td>\n",
       "      <td>0</td>\n",
       "      <td>1</td>\n",
       "    </tr>\n",
       "    <tr>\n",
       "      <th>102</th>\n",
       "      <td>1.0</td>\n",
       "      <td>0</td>\n",
       "      <td>1</td>\n",
       "      <td>0</td>\n",
       "    </tr>\n",
       "  </tbody>\n",
       "</table>\n",
       "<p>491 rows × 4 columns</p>\n",
       "</div>"
      ],
      "text/plain": [
       "     Credit_History  Married_No  Married_Yes  Property_Area_Semiurban\n",
       "83              0.0           0            1                        1\n",
       "90              1.0           0            1                        1\n",
       "227             1.0           0            1                        1\n",
       "482             1.0           0            1                        1\n",
       "464             0.0           1            0                        1\n",
       "..              ...         ...          ...                      ...\n",
       "71              1.0           0            1                        1\n",
       "106             1.0           0            1                        0\n",
       "270             1.0           1            0                        0\n",
       "435             1.0           1            0                        1\n",
       "102             1.0           0            1                        0\n",
       "\n",
       "[491 rows x 4 columns]"
      ]
     },
     "execution_count": 178,
     "metadata": {},
     "output_type": "execute_result"
    }
   ],
   "source": [
    "features_df_new"
   ]
  },
  {
   "cell_type": "markdown",
   "metadata": {
    "jupyter": {
     "outputs_hidden": false
    }
   },
   "source": [
    "## 5. Using Pipeline\n",
    "If you didn't use pipelines before, transform your data prep, feat. engineering and modeling steps into Pipeline. It will be helpful for deployment.\n",
    "\n",
    "The goal here is to create the pipeline that will take one row of our dataset and predict the probability of being granted a loan.\n",
    "\n",
    "`pipeline.predict(x)`"
   ]
  },
  {
   "cell_type": "code",
   "execution_count": 332,
   "metadata": {},
   "outputs": [
    {
     "data": {
      "text/html": [
       "<div>\n",
       "<style scoped>\n",
       "    .dataframe tbody tr th:only-of-type {\n",
       "        vertical-align: middle;\n",
       "    }\n",
       "\n",
       "    .dataframe tbody tr th {\n",
       "        vertical-align: top;\n",
       "    }\n",
       "\n",
       "    .dataframe thead th {\n",
       "        text-align: right;\n",
       "    }\n",
       "</style>\n",
       "<table border=\"1\" class=\"dataframe\">\n",
       "  <thead>\n",
       "    <tr style=\"text-align: right;\">\n",
       "      <th></th>\n",
       "      <th>Loan_ID</th>\n",
       "      <th>Gender</th>\n",
       "      <th>Married</th>\n",
       "      <th>Dependents</th>\n",
       "      <th>Education</th>\n",
       "      <th>Self_Employed</th>\n",
       "      <th>ApplicantIncome</th>\n",
       "      <th>CoapplicantIncome</th>\n",
       "      <th>LoanAmount</th>\n",
       "      <th>Loan_Amount_Term</th>\n",
       "      <th>Credit_History</th>\n",
       "      <th>Property_Area</th>\n",
       "      <th>Loan_Status</th>\n",
       "    </tr>\n",
       "  </thead>\n",
       "  <tbody>\n",
       "    <tr>\n",
       "      <th>0</th>\n",
       "      <td>LP001002</td>\n",
       "      <td>Male</td>\n",
       "      <td>No</td>\n",
       "      <td>0</td>\n",
       "      <td>Graduate</td>\n",
       "      <td>No</td>\n",
       "      <td>5849</td>\n",
       "      <td>0.0</td>\n",
       "      <td>NaN</td>\n",
       "      <td>360.0</td>\n",
       "      <td>1.0</td>\n",
       "      <td>Urban</td>\n",
       "      <td>Y</td>\n",
       "    </tr>\n",
       "    <tr>\n",
       "      <th>1</th>\n",
       "      <td>LP001003</td>\n",
       "      <td>Male</td>\n",
       "      <td>Yes</td>\n",
       "      <td>1</td>\n",
       "      <td>Graduate</td>\n",
       "      <td>No</td>\n",
       "      <td>4583</td>\n",
       "      <td>1508.0</td>\n",
       "      <td>128.0</td>\n",
       "      <td>360.0</td>\n",
       "      <td>1.0</td>\n",
       "      <td>Rural</td>\n",
       "      <td>N</td>\n",
       "    </tr>\n",
       "    <tr>\n",
       "      <th>2</th>\n",
       "      <td>LP001005</td>\n",
       "      <td>Male</td>\n",
       "      <td>Yes</td>\n",
       "      <td>0</td>\n",
       "      <td>Graduate</td>\n",
       "      <td>Yes</td>\n",
       "      <td>3000</td>\n",
       "      <td>0.0</td>\n",
       "      <td>66.0</td>\n",
       "      <td>360.0</td>\n",
       "      <td>1.0</td>\n",
       "      <td>Urban</td>\n",
       "      <td>Y</td>\n",
       "    </tr>\n",
       "    <tr>\n",
       "      <th>3</th>\n",
       "      <td>LP001006</td>\n",
       "      <td>Male</td>\n",
       "      <td>Yes</td>\n",
       "      <td>0</td>\n",
       "      <td>Not Graduate</td>\n",
       "      <td>No</td>\n",
       "      <td>2583</td>\n",
       "      <td>2358.0</td>\n",
       "      <td>120.0</td>\n",
       "      <td>360.0</td>\n",
       "      <td>1.0</td>\n",
       "      <td>Urban</td>\n",
       "      <td>Y</td>\n",
       "    </tr>\n",
       "    <tr>\n",
       "      <th>4</th>\n",
       "      <td>LP001008</td>\n",
       "      <td>Male</td>\n",
       "      <td>No</td>\n",
       "      <td>0</td>\n",
       "      <td>Graduate</td>\n",
       "      <td>No</td>\n",
       "      <td>6000</td>\n",
       "      <td>0.0</td>\n",
       "      <td>141.0</td>\n",
       "      <td>360.0</td>\n",
       "      <td>1.0</td>\n",
       "      <td>Urban</td>\n",
       "      <td>Y</td>\n",
       "    </tr>\n",
       "  </tbody>\n",
       "</table>\n",
       "</div>"
      ],
      "text/plain": [
       "    Loan_ID Gender Married Dependents     Education Self_Employed  \\\n",
       "0  LP001002   Male      No          0      Graduate            No   \n",
       "1  LP001003   Male     Yes          1      Graduate            No   \n",
       "2  LP001005   Male     Yes          0      Graduate           Yes   \n",
       "3  LP001006   Male     Yes          0  Not Graduate            No   \n",
       "4  LP001008   Male      No          0      Graduate            No   \n",
       "\n",
       "   ApplicantIncome  CoapplicantIncome  LoanAmount  Loan_Amount_Term  \\\n",
       "0             5849                0.0         NaN             360.0   \n",
       "1             4583             1508.0       128.0             360.0   \n",
       "2             3000                0.0        66.0             360.0   \n",
       "3             2583             2358.0       120.0             360.0   \n",
       "4             6000                0.0       141.0             360.0   \n",
       "\n",
       "   Credit_History Property_Area Loan_Status  \n",
       "0             1.0         Urban           Y  \n",
       "1             1.0         Rural           N  \n",
       "2             1.0         Urban           Y  \n",
       "3             1.0         Urban           Y  \n",
       "4             1.0         Urban           Y  "
      ]
     },
     "execution_count": 332,
     "metadata": {},
     "output_type": "execute_result"
    }
   ],
   "source": [
    "df.head()"
   ]
  },
  {
   "cell_type": "code",
   "execution_count": 184,
   "metadata": {},
   "outputs": [],
   "source": [
    "import pandas as pd\n",
    "import numpy as np\n",
    "from sklearn.compose import ColumnTransformer\n",
    "from sklearn.pipeline import Pipeline, FeatureUnion\n",
    "from sklearn.impute import SimpleImputer\n",
    "from sklearn.preprocessing import FunctionTransformer, OneHotEncoder, StandardScaler\n",
    "from sklearn.model_selection import train_test_split\n",
    "from sklearn.model_selection import GridSearchCV\n",
    "from sklearn.feature_selection import SelectKBest\n",
    "from sklearn.svm import LinearSVC\n",
    "from sklearn.metrics import accuracy_score\n",
    "from sklearn.metrics import precision_score\n",
    "from sklearn.metrics import recall_score\n",
    "from sklearn.metrics import confusion_matrix\n",
    "from sklearn.decomposition import PCA\n",
    "from sklearn.metrics import roc_auc_score"
   ]
  },
  {
   "cell_type": "code",
   "execution_count": 38,
   "metadata": {},
   "outputs": [],
   "source": [
    "X = df.iloc[:,0:-1]\n",
    "y = df.iloc[:,-1]\n",
    "y = y.replace({\"Y\":1,\"N\":0})\n",
    "y2 = y.values.ravel()\n",
    "y = np.array(y2).astype(int)"
   ]
  },
  {
   "cell_type": "code",
   "execution_count": 50,
   "metadata": {},
   "outputs": [],
   "source": [
    "def preprocess(X):\n",
    "    input_df = X.copy()\n",
    "    #Changing History and Dependents to Zero\n",
    "    input_df[['Credit_History', 'Dependents']]= input_df[['Credit_History','Dependents']].fillna(value=0)\n",
    "    #Clean dependents\n",
    "    input_df['Dependents'] = input_df['Dependents'].replace({0:\"0\",'2':'1', '3+':'1'})\n",
    "    #Changing Self_employed and Married to No\n",
    "    input_df[['Married','Self_Employed']]= input_df[['Married','Self_Employed']].fillna('No')\n",
    "    #Changing Loan to Median\n",
    "    input_df['LoanAmount']= input_df['LoanAmount'].fillna(input_df['LoanAmount'].median())\n",
    "    #Changing Loan term amount to mode\n",
    "    input_df['Loan_Amount_Term']= input_df['Loan_Amount_Term'].fillna(input_df['Loan_Amount_Term'].mode()[0])\n",
    "    #Changing Gender to Other\n",
    "    input_df['Gender'] = input_df['Gender'].fillna('Other')\n",
    "    #Changing Loan amounts and such to Log\n",
    "    input_df['Log_LoanAmount'] = np.log(input_df['LoanAmount'])\n",
    "    input_df[\"Log_Income\"] = (np.log(input_df['ApplicantIncome'] + input_df['CoapplicantIncome']))\n",
    "    #Removing uneeded columns\n",
    "    input_df = input_df.drop(columns = ['ApplicantIncome','CoapplicantIncome','Loan_ID','LoanAmount'])\n",
    "    #Getting dummies\n",
    "    output_df = pd.get_dummies(input_df)\n",
    "    return output_df"
   ]
  },
  {
   "cell_type": "code",
   "execution_count": 51,
   "metadata": {},
   "outputs": [],
   "source": [
    "#Splitting the Data\n",
    "X_train, X_test, y_train, y_test = train_test_split(X, y, test_size=0.20, random_state=42)"
   ]
  },
  {
   "cell_type": "code",
   "execution_count": 52,
   "metadata": {},
   "outputs": [],
   "source": [
    "#Cleaning the data. \n",
    "X_train = preprocess(X_train)\n",
    "X_test = preprocess(X_test)"
   ]
  },
  {
   "cell_type": "code",
   "execution_count": 14,
   "metadata": {},
   "outputs": [
    {
     "data": {
      "text/html": [
       "<div>\n",
       "<style scoped>\n",
       "    .dataframe tbody tr th:only-of-type {\n",
       "        vertical-align: middle;\n",
       "    }\n",
       "\n",
       "    .dataframe tbody tr th {\n",
       "        vertical-align: top;\n",
       "    }\n",
       "\n",
       "    .dataframe thead th {\n",
       "        text-align: right;\n",
       "    }\n",
       "</style>\n",
       "<table border=\"1\" class=\"dataframe\">\n",
       "  <thead>\n",
       "    <tr style=\"text-align: right;\">\n",
       "      <th></th>\n",
       "      <th>Loan_Amount_Term</th>\n",
       "      <th>Credit_History</th>\n",
       "      <th>Log_LoanAmount</th>\n",
       "      <th>Log_Income</th>\n",
       "      <th>Gender_Female</th>\n",
       "      <th>Gender_Male</th>\n",
       "      <th>Gender_Other</th>\n",
       "      <th>Married_No</th>\n",
       "      <th>Married_Yes</th>\n",
       "      <th>Dependents_0</th>\n",
       "      <th>Dependents_1</th>\n",
       "      <th>Education_Graduate</th>\n",
       "      <th>Education_Not Graduate</th>\n",
       "      <th>Self_Employed_No</th>\n",
       "      <th>Self_Employed_Yes</th>\n",
       "      <th>Property_Area_Rural</th>\n",
       "      <th>Property_Area_Semiurban</th>\n",
       "      <th>Property_Area_Urban</th>\n",
       "    </tr>\n",
       "  </thead>\n",
       "  <tbody>\n",
       "    <tr>\n",
       "      <th>83</th>\n",
       "      <td>360.0</td>\n",
       "      <td>0.0</td>\n",
       "      <td>5.57973</td>\n",
       "      <td>9.017968</td>\n",
       "      <td>0</td>\n",
       "      <td>1</td>\n",
       "      <td>0</td>\n",
       "      <td>0</td>\n",
       "      <td>1</td>\n",
       "      <td>1</td>\n",
       "      <td>0</td>\n",
       "      <td>1</td>\n",
       "      <td>0</td>\n",
       "      <td>1</td>\n",
       "      <td>0</td>\n",
       "      <td>0</td>\n",
       "      <td>1</td>\n",
       "      <td>0</td>\n",
       "    </tr>\n",
       "  </tbody>\n",
       "</table>\n",
       "</div>"
      ],
      "text/plain": [
       "    Loan_Amount_Term  Credit_History  Log_LoanAmount  Log_Income  \\\n",
       "83             360.0             0.0         5.57973    9.017968   \n",
       "\n",
       "    Gender_Female  Gender_Male  Gender_Other  Married_No  Married_Yes  \\\n",
       "83              0            1             0           0            1   \n",
       "\n",
       "    Dependents_0  Dependents_1  Education_Graduate  Education_Not Graduate  \\\n",
       "83             1             0                   1                       0   \n",
       "\n",
       "    Self_Employed_No  Self_Employed_Yes  Property_Area_Rural  \\\n",
       "83                 1                  0                    0   \n",
       "\n",
       "    Property_Area_Semiurban  Property_Area_Urban  \n",
       "83                        1                    0  "
      ]
     },
     "execution_count": 14,
     "metadata": {},
     "output_type": "execute_result"
    }
   ],
   "source": [
    "X_train.head(1)"
   ]
  },
  {
   "cell_type": "code",
   "execution_count": 169,
   "metadata": {},
   "outputs": [
    {
     "data": {
      "text/plain": [
       "Pipeline(steps=[('scaler',\n",
       "                 ColumnTransformer(remainder='passthrough',\n",
       "                                   transformers=[('numeric',\n",
       "                                                  Pipeline(steps=[('scaling',\n",
       "                                                                   StandardScaler())]),\n",
       "                                                  ['Loan_Amount_Term'])])),\n",
       "                ('features',\n",
       "                 FeatureUnion(transformer_list=[('pca', PCA(n_components=5)),\n",
       "                                                ('select_best',\n",
       "                                                 SelectKBest(k=5))])),\n",
       "                ('classifier',\n",
       "                 LinearSVC(C=0.016, max_iter=9000, random_state=0))])"
      ]
     },
     "execution_count": 169,
     "metadata": {},
     "output_type": "execute_result"
    }
   ],
   "source": [
    "scale_num_transform = Pipeline([('scaling',StandardScaler())])\n",
    "\n",
    "preprocessing = ColumnTransformer([('numeric', scale_num_transform, ['Loan_Amount_Term'])],\n",
    "                                  remainder='passthrough')\n",
    "\n",
    "feature_union = FeatureUnion([('pca', PCA(n_components=5)),\n",
    "                             ('select_best', SelectKBest(k=5))])\n",
    "                                        \n",
    "pipeline = Pipeline(steps = [('scaler', preprocessing),\n",
    "                             ('features', feature_union),\n",
    "                            ('classifier', LinearSVC(C=0.016, max_iter = 9000, random_state=0))])\n",
    "\n",
    "pipeline.fit(X_train,y_train)"
   ]
  },
  {
   "cell_type": "code",
   "execution_count": 170,
   "metadata": {},
   "outputs": [],
   "source": [
    "pipe_pred = pipeline.predict(X_test)"
   ]
  },
  {
   "cell_type": "code",
   "execution_count": 171,
   "metadata": {},
   "outputs": [
    {
     "name": "stdout",
     "output_type": "stream",
     "text": [
      "0.7479674796747967\n",
      "0.7378640776699029\n",
      "0.95\n",
      "[[16 27]\n",
      " [ 4 76]]\n"
     ]
    }
   ],
   "source": [
    "print(accuracy_score(y_test,pipe_pred))\n",
    "print(precision_score(y_test, pipe_pred))\n",
    "print(recall_score(y_test, pipe_pred))\n",
    "print(confusion_matrix(y_test, pipe_pred))"
   ]
  },
  {
   "cell_type": "code",
   "execution_count": 185,
   "metadata": {},
   "outputs": [
    {
     "data": {
      "text/plain": [
       "0.661046511627907"
      ]
     },
     "execution_count": 185,
     "metadata": {},
     "output_type": "execute_result"
    }
   ],
   "source": [
    "roc_auc_score(y_test,pipe_pred)"
   ]
  },
  {
   "cell_type": "code",
   "execution_count": 120,
   "metadata": {},
   "outputs": [],
   "source": [
    "#import the module\n",
    "import pickle\n",
    "with open('model.pickle', 'wb') as fh:\n",
    "    pickle.dump(pipeline, fh)"
   ]
  },
  {
   "cell_type": "markdown",
   "metadata": {},
   "source": [
    "At this point, try out different features, and see what data works best.\n",
    "Then Pick the optimal parameters using gridsearchCV\n",
    "There are 18 features right now. "
   ]
  },
  {
   "cell_type": "code",
   "execution_count": 174,
   "metadata": {},
   "outputs": [
    {
     "name": "stdout",
     "output_type": "stream",
     "text": [
      "Intiated\n"
     ]
    }
   ],
   "source": [
    "class DataframeFunctionTransformer():\n",
    "    def __init__(self):\n",
    "        print('Intiated')\n",
    "\n",
    "    def fit(self, X, y=None, **fit_params):\n",
    "        return self\n",
    "    \n",
    "    def transform(self, X, y=None):\n",
    "        input_df = X.copy()\n",
    "        #Changing History and Dependents to Zero\n",
    "        input_df[['Credit_History', 'Dependents']]= input_df[['Credit_History','Dependents']].fillna(value=0)\n",
    "        #Clean dependents\n",
    "        input_df['Dependents'] = input_df['Dependents'].replace({0:\"0\",'2':'1', '3+':'1'})\n",
    "        #Changing Self_employed and Married to No\n",
    "        input_df[['Married','Self_Employed']]= input_df[['Married','Self_Employed']].fillna('No')\n",
    "        #Changing Loan to Median\n",
    "        input_df['LoanAmount']= input_df['LoanAmount'].fillna(input_df['LoanAmount'].median())\n",
    "        #Changing Loan term amount to mode\n",
    "        input_df['Loan_Amount_Term']= input_df['Loan_Amount_Term'].fillna(input_df['Loan_Amount_Term'].mode()[0])\n",
    "        #Changing Gender to Other\n",
    "        input_df['Gender'] = input_df['Gender'].fillna('Other')\n",
    "        #Changing Loan amounts and such to Log\n",
    "        input_df['Log_LoanAmount'] = np.log(input_df['LoanAmount'])\n",
    "        input_df[\"Log_Income\"] = (np.log(input_df['ApplicantIncome'] + input_df['CoapplicantIncome']))\n",
    "        #Removing uneeded columns\n",
    "        input_df = input_df.drop(columns = ['ApplicantIncome','CoapplicantIncome','Loan_ID','LoanAmount'])\n",
    "        #Getting dummies\n",
    "        output_df = pd.get_dummies(input_df)\n",
    "        print(output_df.shape)\n",
    "        return output_df\n",
    "\n",
    "pipeline = Pipeline(steps = [('transformer', DataframeFunctionTransformer()),\n",
    "                             ('features', SelectKBest()),\n",
    "                            ('classifier', LinearSVC(random_state=0, C=0.01, max_iter = 6000))])\n",
    "\n",
    "\n",
    "param_grid = ({'classifier__C': [0.1, 10, 100],\n",
    "               'classifier__tol': [1e-15, 1e-14],\n",
    "               'classifier__max_iter': [1000, 5000, 10000],\n",
    "             'features__k':[3, 6, 9, 12]})\n",
    "                             \n",
    "                             \n",
    "grid = GridSearchCV(pipeline, param_grid = param_grid, cv=5 )\n",
    "#grid.fit(X_train, y_train)"
   ]
  },
  {
   "cell_type": "code",
   "execution_count": 53,
   "metadata": {},
   "outputs": [
    {
     "name": "stdout",
     "output_type": "stream",
     "text": [
      "Best test set accuracy: 0.7723577235772358\n",
      "Achieved with hyperparameters:{'classifier__C': 1, 'classifier__max_iter': 1000, 'classifier__tol': 1e-15, 'select_best__k': 3}\n"
     ]
    }
   ],
   "source": [
    "best_model = grid.best_estimator_\n",
    "best_hyperparams = grid.best_params_\n",
    "best_acc = grid.score(X_test,y_test)\n",
    "print(f'Best test set accuracy: {best_acc}\\nAchieved with hyperparameters:{best_hyperparams}')"
   ]
  },
  {
   "cell_type": "code",
   "execution_count": null,
   "metadata": {},
   "outputs": [],
   "source": [
    "pipeline.predict(X_test)"
   ]
  },
  {
   "cell_type": "code",
   "execution_count": null,
   "metadata": {},
   "outputs": [],
   "source": [
    "df"
   ]
  },
  {
   "cell_type": "markdown",
   "metadata": {},
   "source": [
    "Change 'Gender to Other'\n",
    "Married to \"No\"\n",
    "Dependents to 0 (Kids or no kids)\n",
    "Self_employed to No\n",
    "LoanAmount median\n",
    "Loan_amount_term mode\n",
    "credit_History to 0. "
   ]
  },
  {
   "cell_type": "markdown",
   "metadata": {},
   "source": [
    "## 6. Deploy your model to cloud and test it with PostMan, BASH or Python"
   ]
  },
  {
   "cell_type": "code",
   "execution_count": null,
   "metadata": {},
   "outputs": [],
   "source": [
    "from sklearn.svm import LinearSVC\n",
    "Lsvc = LinearSVC(random_state=0, C=1, max_iter = 1000).fit(X_train,y_train)\n",
    "\n",
    "svc_pred = Lsvc.predict(X_test_scaled)\n",
    "\n",
    "print(accuracy_score(y_test,svc_pred))\n",
    "print(precision_score(y_test, svc_pred))\n",
    "print(recall_score(y_test, svc_pred))\n",
    "print(confusion_matrix(y_test, svc_pred))"
   ]
  },
  {
   "cell_type": "code",
   "execution_count": null,
   "metadata": {},
   "outputs": [],
   "source": [
    "import json\n",
    "json_data = X_test[0:1].to_json(orient = 'records') \n",
    "json_data = json.loads(json_data)"
   ]
  },
  {
   "cell_type": "code",
   "execution_count": 123,
   "metadata": {},
   "outputs": [],
   "source": [
    "import json\n",
    "json_data = X_test.head(5).to_json(orient = 'records')\n",
    "json_data = json.loads(json_data)\n"
   ]
  },
  {
   "cell_type": "code",
   "execution_count": 175,
   "metadata": {},
   "outputs": [
    {
     "data": {
      "text/html": [
       "<div>\n",
       "<style scoped>\n",
       "    .dataframe tbody tr th:only-of-type {\n",
       "        vertical-align: middle;\n",
       "    }\n",
       "\n",
       "    .dataframe tbody tr th {\n",
       "        vertical-align: top;\n",
       "    }\n",
       "\n",
       "    .dataframe thead th {\n",
       "        text-align: right;\n",
       "    }\n",
       "</style>\n",
       "<table border=\"1\" class=\"dataframe\">\n",
       "  <thead>\n",
       "    <tr style=\"text-align: right;\">\n",
       "      <th></th>\n",
       "      <th>Loan_Amount_Term</th>\n",
       "      <th>Credit_History</th>\n",
       "      <th>Log_LoanAmount</th>\n",
       "      <th>Log_Income</th>\n",
       "      <th>Gender_Female</th>\n",
       "      <th>Gender_Male</th>\n",
       "      <th>Gender_Other</th>\n",
       "      <th>Married_No</th>\n",
       "      <th>Married_Yes</th>\n",
       "      <th>Dependents_0</th>\n",
       "      <th>Dependents_1</th>\n",
       "      <th>Education_Graduate</th>\n",
       "      <th>Education_Not Graduate</th>\n",
       "      <th>Self_Employed_No</th>\n",
       "      <th>Self_Employed_Yes</th>\n",
       "      <th>Property_Area_Rural</th>\n",
       "      <th>Property_Area_Semiurban</th>\n",
       "      <th>Property_Area_Urban</th>\n",
       "    </tr>\n",
       "  </thead>\n",
       "  <tbody>\n",
       "    <tr>\n",
       "      <th>350</th>\n",
       "      <td>360.0</td>\n",
       "      <td>1.0</td>\n",
       "      <td>5.429346</td>\n",
       "      <td>9.114160</td>\n",
       "      <td>0</td>\n",
       "      <td>1</td>\n",
       "      <td>0</td>\n",
       "      <td>0</td>\n",
       "      <td>1</td>\n",
       "      <td>1</td>\n",
       "      <td>0</td>\n",
       "      <td>1</td>\n",
       "      <td>0</td>\n",
       "      <td>1</td>\n",
       "      <td>0</td>\n",
       "      <td>0</td>\n",
       "      <td>1</td>\n",
       "      <td>0</td>\n",
       "    </tr>\n",
       "    <tr>\n",
       "      <th>377</th>\n",
       "      <td>360.0</td>\n",
       "      <td>0.0</td>\n",
       "      <td>4.867534</td>\n",
       "      <td>8.368693</td>\n",
       "      <td>0</td>\n",
       "      <td>1</td>\n",
       "      <td>0</td>\n",
       "      <td>0</td>\n",
       "      <td>1</td>\n",
       "      <td>1</td>\n",
       "      <td>0</td>\n",
       "      <td>1</td>\n",
       "      <td>0</td>\n",
       "      <td>1</td>\n",
       "      <td>0</td>\n",
       "      <td>0</td>\n",
       "      <td>1</td>\n",
       "      <td>0</td>\n",
       "    </tr>\n",
       "    <tr>\n",
       "      <th>163</th>\n",
       "      <td>360.0</td>\n",
       "      <td>1.0</td>\n",
       "      <td>5.062595</td>\n",
       "      <td>8.633019</td>\n",
       "      <td>0</td>\n",
       "      <td>1</td>\n",
       "      <td>0</td>\n",
       "      <td>0</td>\n",
       "      <td>1</td>\n",
       "      <td>0</td>\n",
       "      <td>1</td>\n",
       "      <td>1</td>\n",
       "      <td>0</td>\n",
       "      <td>1</td>\n",
       "      <td>0</td>\n",
       "      <td>1</td>\n",
       "      <td>0</td>\n",
       "      <td>0</td>\n",
       "    </tr>\n",
       "    <tr>\n",
       "      <th>609</th>\n",
       "      <td>360.0</td>\n",
       "      <td>1.0</td>\n",
       "      <td>4.262680</td>\n",
       "      <td>7.972466</td>\n",
       "      <td>1</td>\n",
       "      <td>0</td>\n",
       "      <td>0</td>\n",
       "      <td>1</td>\n",
       "      <td>0</td>\n",
       "      <td>1</td>\n",
       "      <td>0</td>\n",
       "      <td>1</td>\n",
       "      <td>0</td>\n",
       "      <td>1</td>\n",
       "      <td>0</td>\n",
       "      <td>1</td>\n",
       "      <td>0</td>\n",
       "      <td>0</td>\n",
       "    </tr>\n",
       "    <tr>\n",
       "      <th>132</th>\n",
       "      <td>360.0</td>\n",
       "      <td>1.0</td>\n",
       "      <td>4.248495</td>\n",
       "      <td>7.907652</td>\n",
       "      <td>0</td>\n",
       "      <td>1</td>\n",
       "      <td>0</td>\n",
       "      <td>1</td>\n",
       "      <td>0</td>\n",
       "      <td>1</td>\n",
       "      <td>0</td>\n",
       "      <td>1</td>\n",
       "      <td>0</td>\n",
       "      <td>1</td>\n",
       "      <td>0</td>\n",
       "      <td>0</td>\n",
       "      <td>1</td>\n",
       "      <td>0</td>\n",
       "    </tr>\n",
       "  </tbody>\n",
       "</table>\n",
       "</div>"
      ],
      "text/plain": [
       "     Loan_Amount_Term  Credit_History  Log_LoanAmount  Log_Income  \\\n",
       "350             360.0             1.0        5.429346    9.114160   \n",
       "377             360.0             0.0        4.867534    8.368693   \n",
       "163             360.0             1.0        5.062595    8.633019   \n",
       "609             360.0             1.0        4.262680    7.972466   \n",
       "132             360.0             1.0        4.248495    7.907652   \n",
       "\n",
       "     Gender_Female  Gender_Male  Gender_Other  Married_No  Married_Yes  \\\n",
       "350              0            1             0           0            1   \n",
       "377              0            1             0           0            1   \n",
       "163              0            1             0           0            1   \n",
       "609              1            0             0           1            0   \n",
       "132              0            1             0           1            0   \n",
       "\n",
       "     Dependents_0  Dependents_1  Education_Graduate  Education_Not Graduate  \\\n",
       "350             1             0                   1                       0   \n",
       "377             1             0                   1                       0   \n",
       "163             0             1                   1                       0   \n",
       "609             1             0                   1                       0   \n",
       "132             1             0                   1                       0   \n",
       "\n",
       "     Self_Employed_No  Self_Employed_Yes  Property_Area_Rural  \\\n",
       "350                 1                  0                    0   \n",
       "377                 1                  0                    0   \n",
       "163                 1                  0                    1   \n",
       "609                 1                  0                    1   \n",
       "132                 1                  0                    0   \n",
       "\n",
       "     Property_Area_Semiurban  Property_Area_Urban  \n",
       "350                        1                    0  \n",
       "377                        1                    0  \n",
       "163                        0                    0  \n",
       "609                        0                    0  \n",
       "132                        1                    0  "
      ]
     },
     "execution_count": 175,
     "metadata": {},
     "output_type": "execute_result"
    }
   ],
   "source": [
    "X_test.head(5)"
   ]
  },
  {
   "cell_type": "code",
   "execution_count": 127,
   "metadata": {},
   "outputs": [],
   "source": [
    "X_test.head(5).to_csv('test.csv', index = False)\n"
   ]
  },
  {
   "cell_type": "code",
   "execution_count": 128,
   "metadata": {},
   "outputs": [
    {
     "data": {
      "text/plain": [
       "Text(0.5, 257.44, 'Predicted label')"
      ]
     },
     "execution_count": 128,
     "metadata": {},
     "output_type": "execute_result"
    },
    {
     "data": {
      "image/png": "[encoded data removed]",
      "text/plain": [
       "<Figure size 432x288 with 2 Axes>"
      ]
     },
     "metadata": {
      "needs_background": "light"
     },
     "output_type": "display_data"
    }
   ],
   "source": [
    "import numpy as np\n",
    "import matplotlib.pyplot as plt\n",
    "import seaborn as sns\n",
    "%matplotlib inline\n",
    "\n",
    "class_names=[0,1] # name  of classes\n",
    "fig, ax = plt.subplots()\n",
    "tick_marks = np.arange(len(class_names))\n",
    "plt.xticks(tick_marks, class_names)\n",
    "plt.yticks(tick_marks, class_names)\n",
    "# create heatmap\n",
    "sns.heatmap(pd.DataFrame(pd.DataFrame(confusion_matrix(y_test, pipe_pred))), annot=True, cmap=\"YlGnBu\" ,fmt='g')\n",
    "ax.xaxis.set_label_position(\"top\")\n",
    "plt.tight_layout()\n",
    "plt.title('Confusion matrix', y=1.1)\n",
    "plt.ylabel('Actual label')\n",
    "plt.xlabel('Predicted label')"
   ]
  }
 ],
 "metadata": {
  "kernelspec": {
   "display_name": "Python 3",
   "language": "python",
   "name": "python3"
  },
  "language_info": {
   "codemirror_mode": {
    "name": "ipython",
    "version": 3
   },
   "file_extension": ".py",
   "mimetype": "text/x-python",
   "name": "python",
   "nbconvert_exporter": "python",
   "pygments_lexer": "ipython3",
   "version": "3.8.8"
  }
 },
 "nbformat": 4,
 "nbformat_minor": 4
}
